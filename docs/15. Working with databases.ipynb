{
 "cells": [
  {
   "cell_type": "markdown",
   "id": "282e6c79",
   "metadata": {},
   "source": [
    "# Working with databases\n",
    "\n",
    "## DB-API 2.0\n",
    "\n",
    "The Python Database API Specification, often referred to as DB-API, is a standard interface for connecting to relational databases from Python programs. It provides a consistent and uniform way to interact with databases, regardless of the underlying database management system (DBMS) being used. DB-API 2.0 was introduced to improve and standardize database connectivity in Python, making it easier for developers to work with databases in a consistent manner.\n",
    "\n",
    "## sqlite3\n",
    "\n",
    "SQLite is a C library that provides a lightweight disk-based database that doesn’t require a separate server process and allows accessing the database using a nonstandard variant of the SQL query language. Some applications can use SQLite for internal data storage. It’s also possible to prototype an application using SQLite and then port the code to a larger database such as PostgreSQL or Oracle.\n",
    "\n",
    "The `sqlite3` module in Python Standard Library implements DB-API 2.0 for SQlite databases.\n",
    "\n",
    "To work with a database we have to either create a database or use an existing one. Call `sqlite3.connect(`) to create a connection to the database `tutorial.db` in the current working directory, implicitly creating it if it does not exist:\n"
   ]
  },
  {
   "cell_type": "code",
   "execution_count": 1,
   "id": "f0b7fcac",
   "metadata": {},
   "outputs": [],
   "source": [
    "import sqlite3\n",
    "con = sqlite3.connect(\"tutorial.db\")"
   ]
  },
  {
   "cell_type": "markdown",
   "id": "cac7f023",
   "metadata": {},
   "source": [
    "The returned `Connection` object `con` represents the connection to the on-disk database.\n",
    "\n",
    "In order to execute SQL statements and fetch results from SQL queries, we will need to use a database cursor. Call `con.cursor()` to create the `Cursor`:"
   ]
  },
  {
   "cell_type": "code",
   "execution_count": 2,
   "id": "d0f712d2",
   "metadata": {},
   "outputs": [],
   "source": [
    "cur = con.cursor()"
   ]
  },
  {
   "cell_type": "markdown",
   "id": "c0b00806",
   "metadata": {},
   "source": [
    "Now that we’ve got a database connection and a cursor, we can create a database table `movie` with columns for title, release year, and review score."
   ]
  },
  {
   "cell_type": "code",
   "execution_count": 3,
   "id": "3456d10b",
   "metadata": {},
   "outputs": [
    {
     "data": {
      "text/plain": [
       "<sqlite3.Cursor at 0x110259b40>"
      ]
     },
     "execution_count": 3,
     "metadata": {},
     "output_type": "execute_result"
    }
   ],
   "source": [
    "cur.execute(\"CREATE TABLE movie(title TEXT, year INTEGER, score INTEGER)\")"
   ]
  },
  {
   "cell_type": "markdown",
   "id": "0ccd50cb",
   "metadata": {},
   "source": [
    "Now, add two rows of data supplied as SQL literals by executing an INSERT statement, once again by calling `cur.execute()`:"
   ]
  },
  {
   "cell_type": "code",
   "execution_count": 4,
   "id": "d5abfac1",
   "metadata": {},
   "outputs": [
    {
     "data": {
      "text/plain": [
       "<sqlite3.Cursor at 0x110259b40>"
      ]
     },
     "execution_count": 4,
     "metadata": {},
     "output_type": "execute_result"
    }
   ],
   "source": [
    "cur.execute(\"\"\"\n",
    "    INSERT INTO movie VALUES\n",
    "        ('Monty Python and the Holy Grail', 1975, 8.2),\n",
    "        ('And Now for Something Completely Different', 1971, 7.5)\n",
    "\"\"\")"
   ]
  },
  {
   "cell_type": "markdown",
   "id": "b89d1985",
   "metadata": {},
   "source": [
    "The `INSERT` statement implicitly opens a transaction, which needs to be committed before changes are saved in the database. Call `con.commit()` on the connection object to commit the transaction:"
   ]
  },
  {
   "cell_type": "code",
   "execution_count": 5,
   "id": "5a78506f",
   "metadata": {},
   "outputs": [],
   "source": [
    "con.commit()"
   ]
  },
  {
   "cell_type": "markdown",
   "id": "66806c7e",
   "metadata": {},
   "source": [
    "We can verify that the data was inserted correctly by executing a `SELECT` query."
   ]
  },
  {
   "cell_type": "code",
   "execution_count": 6,
   "id": "aad71940",
   "metadata": {},
   "outputs": [
    {
     "data": {
      "text/plain": [
       "[(8.2,), (7.5,)]"
      ]
     },
     "execution_count": 6,
     "metadata": {},
     "output_type": "execute_result"
    }
   ],
   "source": [
    "res = cur.execute(\"SELECT score FROM movie\")\n",
    "res.fetchall()"
   ]
  },
  {
   "cell_type": "markdown",
   "id": "8c6cb9a2",
   "metadata": {},
   "source": [
    "Now, insert three more rows by calling `cur.executemany()`:"
   ]
  },
  {
   "cell_type": "code",
   "execution_count": 7,
   "id": "4c504f76",
   "metadata": {},
   "outputs": [],
   "source": [
    "data = [\n",
    "    (\"Monty Python Live at the Hollywood Bowl\", 1982, 7.9),\n",
    "    (\"Monty Python's The Meaning of Life\", 1983, 7.5),\n",
    "    (\"Monty Python's Life of Brian\", 1979, 8.0),\n",
    "]\n",
    "cur.executemany(\"INSERT INTO movie VALUES(?, ?, ?)\", data)\n",
    "con.commit()  # Remember to commit the transaction after executing INSERT."
   ]
  },
  {
   "cell_type": "markdown",
   "id": "4cf698e7",
   "metadata": {},
   "source": [
    "Notice that `?` placeholders are used to bind data to the query. Always use placeholders instead of string formatting to bind Python values to SQL statements, to avoid SQL injection attacks."
   ]
  },
  {
   "cell_type": "markdown",
   "id": "7aba7539",
   "metadata": {},
   "source": [
    "We can verify that the new rows were inserted by executing a SELECT query, this time iterating over the results of the query:"
   ]
  },
  {
   "cell_type": "code",
   "execution_count": 8,
   "id": "a2341d15",
   "metadata": {},
   "outputs": [
    {
     "name": "stdout",
     "output_type": "stream",
     "text": [
      "(1971, 'And Now for Something Completely Different')\n",
      "(1975, 'Monty Python and the Holy Grail')\n",
      "(1979, \"Monty Python's Life of Brian\")\n",
      "(1982, 'Monty Python Live at the Hollywood Bowl')\n",
      "(1983, \"Monty Python's The Meaning of Life\")\n"
     ]
    }
   ],
   "source": [
    "for row in cur.execute(\"SELECT year, title FROM movie ORDER BY year\"):\n",
    "    print(row)"
   ]
  },
  {
   "cell_type": "markdown",
   "id": "086ed7a2",
   "metadata": {},
   "source": [
    "Finally, close the cursor and the database connection:"
   ]
  },
  {
   "cell_type": "code",
   "execution_count": 10,
   "id": "f405d292",
   "metadata": {},
   "outputs": [],
   "source": [
    "cur.close()\n",
    "con.close()"
   ]
  },
  {
   "cell_type": "markdown",
   "id": "2d867821",
   "metadata": {},
   "source": [
    "## Other DBMS\n",
    "\n",
    "DB-API 2.0 has been widely adopted by Python database libraries and modules, making it possible to work with various databases using a consistent programming interface. Developers can choose from a variety of database drivers and modules that implement this standard to work with their preferred DBMS.\n",
    "\n",
    "- [Oracle](https://python-oracledb.readthedocs.io/en/latest/)\n",
    "- [MySQL](https://dev.mysql.com/doc/connector-python/en/)\n",
    "- [PostgrsSQL](https://www.psycopg.org/docs/)\n",
    "- SQL Server: [pyodbc](https://github.com/mkleehammer/pyodbc/wiki) / [cTDS](https://zillow.github.io/ctds/)"
   ]
  },
  {
   "cell_type": "markdown",
   "id": "1acea9c1",
   "metadata": {},
   "source": [
    "## Exercises\n",
    "\n",
    "1. Try connecting to an existing database and run a few queries. Parametrize the queries using data read from a file.\n",
    "1. Create a new table `book` with three fields: `title`, `author`, `year`. Insert multiple rows in the table (use `executemany`). Select all books between two given years and write the result to a file."
   ]
  }
 ],
 "metadata": {
  "kernelspec": {
   "display_name": "Python 3 (ipykernel)",
   "language": "python",
   "name": "python3"
  },
  "language_info": {
   "codemirror_mode": {
    "name": "ipython",
    "version": 3
   },
   "file_extension": ".py",
   "mimetype": "text/x-python",
   "name": "python",
   "nbconvert_exporter": "python",
   "pygments_lexer": "ipython3",
   "version": "3.10.10"
  }
 },
 "nbformat": 4,
 "nbformat_minor": 5
}
