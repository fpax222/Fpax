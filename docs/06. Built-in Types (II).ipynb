{
 "cells": [
  {
   "cell_type": "markdown",
   "metadata": {},
   "source": [
    "# Built-in Types (II)\n",
    "## Sequence types (`list` and `tuple`)\n",
    "## Lists\n",
    "\n",
    "Lists are mutable sequences, typically used to store collections of homogeneous items.\n",
    "\n",
    "Lists may be constructed in several ways:\n",
    "\n",
    "* Using a pair of square brackets to denote the empty list: `[]`\n",
    "* Using square brackets, separating items with commas: `[a]`, `[a, b, c]`\n",
    "* Using a list comprehension: `[x for x in iterable]`\n",
    "* Using the type constructor: `list()` or `list(iterable)`\n",
    "\n",
    "### List operations (common to all mutable sequences)\n",
    "\n",
    "#### Membership testing (`in` and `not in` operators):"
   ]
  },
  {
   "cell_type": "code",
   "execution_count": 1,
   "metadata": {},
   "outputs": [
    {
     "data": {
      "text/plain": [
       "True"
      ]
     },
     "execution_count": 1,
     "metadata": {},
     "output_type": "execute_result"
    }
   ],
   "source": [
    "names = ['Anna', 'Mike', 'Paul']\n",
    "'Paul' in names"
   ]
  },
  {
   "cell_type": "code",
   "execution_count": 2,
   "metadata": {},
   "outputs": [
    {
     "data": {
      "text/plain": [
       "True"
      ]
     },
     "execution_count": 2,
     "metadata": {},
     "output_type": "execute_result"
    }
   ],
   "source": [
    "'Jane' not in names"
   ]
  },
  {
   "cell_type": "markdown",
   "metadata": {},
   "source": [
    "#### Concatenation (`+` and `+=` operators):"
   ]
  },
  {
   "cell_type": "code",
   "execution_count": 3,
   "metadata": {},
   "outputs": [
    {
     "data": {
      "text/plain": [
       "['Anna', 'Mike', 'Paul', 'Sasha', 'Alex']"
      ]
     },
     "execution_count": 3,
     "metadata": {},
     "output_type": "execute_result"
    }
   ],
   "source": [
    "names + ['Sasha', 'Alex']"
   ]
  },
  {
   "cell_type": "code",
   "execution_count": 4,
   "metadata": {},
   "outputs": [
    {
     "data": {
      "text/plain": [
       "['Anna', 'Mike', 'Paul', 'June']"
      ]
     },
     "execution_count": 4,
     "metadata": {},
     "output_type": "execute_result"
    }
   ],
   "source": [
    "names += ['June']\n",
    "names"
   ]
  },
  {
   "cell_type": "markdown",
   "metadata": {},
   "source": [
    "#### Multiplication (`*` and `*=` operators):"
   ]
  },
  {
   "cell_type": "code",
   "execution_count": 5,
   "metadata": {},
   "outputs": [
    {
     "data": {
      "text/plain": [
       "['Anna',\n",
       " 'Mike',\n",
       " 'Paul',\n",
       " 'June',\n",
       " 'Anna',\n",
       " 'Mike',\n",
       " 'Paul',\n",
       " 'June',\n",
       " 'Anna',\n",
       " 'Mike',\n",
       " 'Paul',\n",
       " 'June']"
      ]
     },
     "execution_count": 5,
     "metadata": {},
     "output_type": "execute_result"
    }
   ],
   "source": [
    "names * 3"
   ]
  },
  {
   "cell_type": "code",
   "execution_count": 6,
   "metadata": {},
   "outputs": [
    {
     "data": {
      "text/plain": [
       "['Anna', 'Mike', 'Paul', 'June', 'Anna', 'Mike', 'Paul', 'June']"
      ]
     },
     "execution_count": 6,
     "metadata": {},
     "output_type": "execute_result"
    }
   ],
   "source": [
    "names *= 2\n",
    "names"
   ]
  },
  {
   "cell_type": "markdown",
   "metadata": {},
   "source": [
    "#### Indexing and slicing (`[]` operator):"
   ]
  },
  {
   "cell_type": "code",
   "execution_count": 7,
   "metadata": {},
   "outputs": [
    {
     "data": {
      "text/plain": [
       "15"
      ]
     },
     "execution_count": 7,
     "metadata": {},
     "output_type": "execute_result"
    }
   ],
   "source": [
    "odd_numbers = [1, 3, 5, 7, 9, 11, 13, 15, 17, 19]\n",
    "odd_numbers[-3]"
   ]
  },
  {
   "cell_type": "code",
   "execution_count": 8,
   "metadata": {},
   "outputs": [
    {
     "data": {
      "text/plain": [
       "[1, 7, 13, 19]"
      ]
     },
     "execution_count": 8,
     "metadata": {},
     "output_type": "execute_result"
    }
   ],
   "source": [
    "odd_numbers[::3]"
   ]
  },
  {
   "cell_type": "code",
   "execution_count": 9,
   "metadata": {},
   "outputs": [
    {
     "data": {
      "text/plain": [
       "[100, 3, 5, 7, 9, 11, 13, 15, 17, 19]"
      ]
     },
     "execution_count": 9,
     "metadata": {},
     "output_type": "execute_result"
    }
   ],
   "source": [
    "odd_numbers[0] = 100  # item assignment\n",
    "odd_numbers"
   ]
  },
  {
   "cell_type": "code",
   "execution_count": 10,
   "metadata": {},
   "outputs": [
    {
     "data": {
      "text/plain": [
       "[100, 3, 13, 15, 17, 19]"
      ]
     },
     "execution_count": 10,
     "metadata": {},
     "output_type": "execute_result"
    }
   ],
   "source": [
    "odd_numbers[2:6] = []  # slice assignment\n",
    "odd_numbers"
   ]
  },
  {
   "cell_type": "code",
   "execution_count": 11,
   "metadata": {},
   "outputs": [
    {
     "data": {
      "text/plain": [
       "[100, 13, 17]"
      ]
     },
     "execution_count": 11,
     "metadata": {},
     "output_type": "execute_result"
    }
   ],
   "source": [
    "del odd_numbers[1::2]  # slice deletion\n",
    "odd_numbers"
   ]
  },
  {
   "cell_type": "markdown",
   "metadata": {},
   "source": [
    "#### Builtins `len`, `min`, `max`:"
   ]
  },
  {
   "cell_type": "code",
   "execution_count": 12,
   "metadata": {},
   "outputs": [
    {
     "data": {
      "text/plain": [
       "3"
      ]
     },
     "execution_count": 12,
     "metadata": {},
     "output_type": "execute_result"
    }
   ],
   "source": [
    "len(odd_numbers)"
   ]
  },
  {
   "cell_type": "code",
   "execution_count": 13,
   "metadata": {},
   "outputs": [
    {
     "data": {
      "text/plain": [
       "13"
      ]
     },
     "execution_count": 13,
     "metadata": {},
     "output_type": "execute_result"
    }
   ],
   "source": [
    "min(odd_numbers)"
   ]
  },
  {
   "cell_type": "code",
   "execution_count": 14,
   "metadata": {},
   "outputs": [
    {
     "data": {
      "text/plain": [
       "100"
      ]
     },
     "execution_count": 14,
     "metadata": {},
     "output_type": "execute_result"
    }
   ],
   "source": [
    "max(odd_numbers)"
   ]
  },
  {
   "cell_type": "markdown",
   "metadata": {},
   "source": [
    "### List methods\n",
    "\n",
    "`a.append(x)`\n",
    "* add an item to the end of the list\n",
    "* equivalent to `a[len(a):] = [x]`"
   ]
  },
  {
   "cell_type": "code",
   "execution_count": 15,
   "metadata": {},
   "outputs": [
    {
     "data": {
      "text/plain": [
       "[100, 13, 17, 200]"
      ]
     },
     "execution_count": 15,
     "metadata": {},
     "output_type": "execute_result"
    }
   ],
   "source": [
    "odd_numbers.append(200)\n",
    "odd_numbers"
   ]
  },
  {
   "cell_type": "markdown",
   "metadata": {},
   "source": [
    "`a.extend(L)`  \n",
    "* extend the list by appending all the items in the given list\n",
    "* equivalent to `a[len(a):] = L`"
   ]
  },
  {
   "cell_type": "code",
   "execution_count": 16,
   "metadata": {},
   "outputs": [
    {
     "data": {
      "text/plain": [
       "[100, 13, 17, 200, 0, 0, 0]"
      ]
     },
     "execution_count": 16,
     "metadata": {},
     "output_type": "execute_result"
    }
   ],
   "source": [
    "odd_numbers.extend([0, 0, 0])\n",
    "odd_numbers"
   ]
  },
  {
   "cell_type": "markdown",
   "metadata": {},
   "source": [
    "`a.insert(i, x)`  \n",
    "* insert an item at a given position\n",
    "* `a.insert(0, x)` inserts at the front of the list\n",
    "* `a.insert(len(a), x)` is equivalent to `a.append(x)`"
   ]
  },
  {
   "cell_type": "code",
   "execution_count": 17,
   "metadata": {},
   "outputs": [
    {
     "data": {
      "text/plain": [
       "[100, 'apple', 13, 17, 200, 0, 0, 0]"
      ]
     },
     "execution_count": 17,
     "metadata": {},
     "output_type": "execute_result"
    }
   ],
   "source": [
    "odd_numbers.insert(1, 'apple')\n",
    "odd_numbers"
   ]
  },
  {
   "cell_type": "markdown",
   "metadata": {},
   "source": [
    "`a.remove(x)` \n",
    "* remove the first item from the list whose value is x\n",
    "* raises an error if no such item exists"
   ]
  },
  {
   "cell_type": "code",
   "execution_count": 18,
   "metadata": {},
   "outputs": [
    {
     "data": {
      "text/plain": [
       "[100, 'apple', 17, 200, 0, 0, 0]"
      ]
     },
     "execution_count": 18,
     "metadata": {},
     "output_type": "execute_result"
    }
   ],
   "source": [
    "odd_numbers.remove(13)\n",
    "odd_numbers"
   ]
  },
  {
   "cell_type": "markdown",
   "metadata": {},
   "source": [
    "`a.pop()` / `a.pop(i)`\n",
    "* remove the item at the given position in the list, and return it\n",
    "* if no index is specified, `a.pop()` removes and returns the last item in the list"
   ]
  },
  {
   "cell_type": "code",
   "execution_count": 19,
   "metadata": {},
   "outputs": [
    {
     "data": {
      "text/plain": [
       "'apple'"
      ]
     },
     "execution_count": 19,
     "metadata": {},
     "output_type": "execute_result"
    }
   ],
   "source": [
    "second_element = odd_numbers.pop(1)\n",
    "second_element"
   ]
  },
  {
   "cell_type": "code",
   "execution_count": 20,
   "metadata": {},
   "outputs": [
    {
     "data": {
      "text/plain": [
       "0"
      ]
     },
     "execution_count": 20,
     "metadata": {},
     "output_type": "execute_result"
    }
   ],
   "source": [
    "last_element = odd_numbers.pop()\n",
    "last_element"
   ]
  },
  {
   "cell_type": "code",
   "execution_count": 21,
   "metadata": {},
   "outputs": [
    {
     "data": {
      "text/plain": [
       "[100, 17, 200, 0, 0]"
      ]
     },
     "execution_count": 21,
     "metadata": {},
     "output_type": "execute_result"
    }
   ],
   "source": [
    "odd_numbers"
   ]
  },
  {
   "cell_type": "markdown",
   "metadata": {},
   "source": [
    "`a.sort()`\n",
    "* sort the items of the list, in place."
   ]
  },
  {
   "cell_type": "code",
   "execution_count": 22,
   "metadata": {},
   "outputs": [
    {
     "data": {
      "text/plain": [
       "[0, 0, 17, 100, 200]"
      ]
     },
     "execution_count": 22,
     "metadata": {},
     "output_type": "execute_result"
    }
   ],
   "source": [
    "odd_numbers.sort()\n",
    "odd_numbers"
   ]
  },
  {
   "cell_type": "markdown",
   "metadata": {},
   "source": [
    "`a.reverse()`\n",
    "* reverse the elements of the list, in place"
   ]
  },
  {
   "cell_type": "code",
   "execution_count": 23,
   "metadata": {},
   "outputs": [
    {
     "data": {
      "text/plain": [
       "[200, 100, 17, 0, 0]"
      ]
     },
     "execution_count": 23,
     "metadata": {},
     "output_type": "execute_result"
    }
   ],
   "source": [
    "odd_numbers.reverse()\n",
    "odd_numbers"
   ]
  },
  {
   "cell_type": "markdown",
   "metadata": {},
   "source": [
    "`a.index(x)`\n",
    "* return the index in the list of the first item whose value is `x`\n",
    "* it raises an error if there is no such item"
   ]
  },
  {
   "cell_type": "code",
   "execution_count": 24,
   "metadata": {},
   "outputs": [
    {
     "data": {
      "text/plain": [
       "1"
      ]
     },
     "execution_count": 24,
     "metadata": {},
     "output_type": "execute_result"
    }
   ],
   "source": [
    "odd_numbers.index(100)"
   ]
  },
  {
   "cell_type": "markdown",
   "metadata": {},
   "source": [
    "`a.count(x)`\n",
    "* return the number of times `x` appears in the list"
   ]
  },
  {
   "cell_type": "code",
   "execution_count": 25,
   "metadata": {},
   "outputs": [
    {
     "data": {
      "text/plain": [
       "2"
      ]
     },
     "execution_count": 25,
     "metadata": {},
     "output_type": "execute_result"
    }
   ],
   "source": [
    "odd_numbers.count(0)"
   ]
  },
  {
   "cell_type": "markdown",
   "metadata": {},
   "source": [
    "`a.clear()`\n",
    "* removes all items from `a`\n",
    "* same as `del a[:]`"
   ]
  },
  {
   "cell_type": "code",
   "execution_count": 26,
   "metadata": {},
   "outputs": [
    {
     "data": {
      "text/plain": [
       "[]"
      ]
     },
     "execution_count": 26,
     "metadata": {},
     "output_type": "execute_result"
    }
   ],
   "source": [
    "odd_numbers.clear()\n",
    "odd_numbers"
   ]
  },
  {
   "cell_type": "markdown",
   "metadata": {},
   "source": [
    "`a.copy()`\n",
    "* creates a shallow copy of `a`\n",
    "* same as `a[:]`"
   ]
  },
  {
   "cell_type": "code",
   "execution_count": 27,
   "metadata": {},
   "outputs": [
    {
     "data": {
      "text/plain": [
       "[]"
      ]
     },
     "execution_count": 27,
     "metadata": {},
     "output_type": "execute_result"
    }
   ],
   "source": [
    "odd_numbers.copy()"
   ]
  },
  {
   "cell_type": "markdown",
   "metadata": {},
   "source": [
    "## Exercises\n",
    "\n",
    "1. Given the following list:\n",
    "    ```python\n",
    "    l = [4, 6, 1, 7, 8, 2, 8, 2, 4, 6, 8, 9]\n",
    "    ```\n",
    "    * Add elements from `[5, 7, 8]` to the end of the list and print the new list\n",
    "    * Print the length of the list\n",
    "    * Check if `8` is in the list\n",
    "    * Print the first position of `7` in the list\n",
    "    * Count how many times `8` is in the list\n",
    "    * Reverse the list and print the new list\n",
    "    * Sort the list and print the new list\n",
    "    * Remove items on last two positions and print the new list\n",
    "1. Write a program to create a list of the squares of the first 10 odd numbers by iterating through a range object.\n",
    "1. Write a Python program to convert a list of characters into a string. Hint: take a look at string operations (concatenation, methods).\n",
    "\n",
    "    ```python\n",
    "    words = ['a', 'b', 'c', 'd']\n",
    "    # output: 'abcd'\n",
    "    ```\n",
    "1. Create a list called `my_list` that contains the following items: `5, 4, 2, 3, 7, 1, 8, 9, 1, 2`.\n",
    "   - Create a new list called `new_list` that contains only the even numbers from `my_list`. Print the entire `new_list` to the console.\n",
    "   - Create another new list called `squared_list` that contains the squares of all the numbers in `my_list`. Print the entire `squared_list` to the console.\n",
    "   - Create a third new list called `modified_list` that contains each item in `my_list` multiplied by 2, but only if the original number is greater than 2. Print the entire `modified_list` to the console.\n",
    "\n",
    "1. Write a program to join together three existing lists. E.g.:\n",
    "    ```python\n",
    "    list1 = [3, 2, 5]\n",
    "    list2 = [4, 2]\n",
    "    list3 = [6, 2, 6, 1]\n",
    "    # output: [3, 2, 5, 4, 2, 6, 2, 6, 1]\n",
    "    ```\n",
    "1. Write a Python program to find the second-smallest number in a list."
   ]
  },
  {
   "cell_type": "markdown",
   "metadata": {},
   "source": [
    "## Tuples\n",
    "Tuples are immutable sequences, typically used to store collections of heterogeneous data.\n",
    "\n",
    "Tuples may be constructed in a number of ways:\n",
    "* Using a pair of parentheses to denote the empty tuple: `()`\n",
    "* Using a trailing comma for a singleton tuple: `a,` or `(a,)`\n",
    "* Separating items with commas: `a, b, c` or `(a, b, c)`\n",
    "* Using the `tuple()` built-in: `tuple()` or `tuple(iterable)`\n",
    "\n",
    "### Tuple operations (common to all sequences)\n",
    "\n",
    "#### Membership testing (`in` and `not in` operators):"
   ]
  },
  {
   "cell_type": "code",
   "execution_count": 28,
   "metadata": {},
   "outputs": [
    {
     "data": {
      "text/plain": [
       "True"
      ]
     },
     "execution_count": 28,
     "metadata": {},
     "output_type": "execute_result"
    }
   ],
   "source": [
    "person = ('John', 'Doe', 1.85, 20)\n",
    "'Doe' in person"
   ]
  },
  {
   "cell_type": "code",
   "execution_count": 29,
   "metadata": {},
   "outputs": [
    {
     "data": {
      "text/plain": [
       "False"
      ]
     },
     "execution_count": 29,
     "metadata": {},
     "output_type": "execute_result"
    }
   ],
   "source": [
    "20 not in person"
   ]
  },
  {
   "cell_type": "markdown",
   "metadata": {},
   "source": [
    "#### Concatenation (`+` operator):"
   ]
  },
  {
   "cell_type": "code",
   "execution_count": 30,
   "metadata": {},
   "outputs": [
    {
     "data": {
      "text/plain": [
       "('John', 'Doe', 1.85, 20, 0)"
      ]
     },
     "execution_count": 30,
     "metadata": {},
     "output_type": "execute_result"
    }
   ],
   "source": [
    "person + (0,)"
   ]
  },
  {
   "cell_type": "markdown",
   "metadata": {},
   "source": [
    "#### Multiplication (`*` operator):"
   ]
  },
  {
   "cell_type": "code",
   "execution_count": 31,
   "metadata": {},
   "outputs": [
    {
     "data": {
      "text/plain": [
       "('John', 'Doe', 1.85, 20, 'John', 'Doe', 1.85, 20, 'John', 'Doe', 1.85, 20)"
      ]
     },
     "execution_count": 31,
     "metadata": {},
     "output_type": "execute_result"
    }
   ],
   "source": [
    "person * 3"
   ]
  },
  {
   "cell_type": "markdown",
   "metadata": {},
   "source": [
    "#### Indexing and slicing (`[]` operator):"
   ]
  },
  {
   "cell_type": "code",
   "execution_count": 32,
   "metadata": {},
   "outputs": [
    {
     "data": {
      "text/plain": [
       "1.85"
      ]
     },
     "execution_count": 32,
     "metadata": {},
     "output_type": "execute_result"
    }
   ],
   "source": [
    "person[2]"
   ]
  },
  {
   "cell_type": "code",
   "execution_count": 33,
   "metadata": {},
   "outputs": [
    {
     "data": {
      "text/plain": [
       "('John', 'Doe')"
      ]
     },
     "execution_count": 33,
     "metadata": {},
     "output_type": "execute_result"
    }
   ],
   "source": [
    "person[:-2]"
   ]
  },
  {
   "cell_type": "markdown",
   "metadata": {},
   "source": [
    "#### Builtins `len`, `min`, `max`:\n",
    "! `min` and `max` will work only if the members of the tuple support comparation"
   ]
  },
  {
   "cell_type": "code",
   "execution_count": 34,
   "metadata": {},
   "outputs": [
    {
     "data": {
      "text/plain": [
       "4"
      ]
     },
     "execution_count": 34,
     "metadata": {},
     "output_type": "execute_result"
    }
   ],
   "source": [
    "len(person)"
   ]
  },
  {
   "cell_type": "code",
   "execution_count": 35,
   "metadata": {},
   "outputs": [
    {
     "data": {
      "text/plain": [
       "1.85"
      ]
     },
     "execution_count": 35,
     "metadata": {},
     "output_type": "execute_result"
    }
   ],
   "source": [
    "min(person[2:])  # comparing only the numerical values in tuple"
   ]
  },
  {
   "cell_type": "code",
   "execution_count": 36,
   "metadata": {},
   "outputs": [
    {
     "data": {
      "text/plain": [
       "'John'"
      ]
     },
     "execution_count": 36,
     "metadata": {},
     "output_type": "execute_result"
    }
   ],
   "source": [
    "max(person[:2])  # comparing only the string values in tuple"
   ]
  },
  {
   "cell_type": "markdown",
   "metadata": {},
   "source": [
    "### Tuple methods\n",
    "\n",
    "`t.count(x)`\n",
    "* return the number of times `x` appears in the tuple"
   ]
  },
  {
   "cell_type": "code",
   "execution_count": 37,
   "metadata": {},
   "outputs": [
    {
     "data": {
      "text/plain": [
       "0"
      ]
     },
     "execution_count": 37,
     "metadata": {},
     "output_type": "execute_result"
    }
   ],
   "source": [
    "person.count(100)"
   ]
  },
  {
   "cell_type": "markdown",
   "metadata": {},
   "source": [
    "`t.index(x)`\n",
    "* return the index in the tuple of the first item whose value is `x`\n",
    "* it raises an error if there is no such item"
   ]
  },
  {
   "cell_type": "code",
   "execution_count": 38,
   "metadata": {},
   "outputs": [
    {
     "data": {
      "text/plain": [
       "3"
      ]
     },
     "execution_count": 38,
     "metadata": {},
     "output_type": "execute_result"
    }
   ],
   "source": [
    "person.index(20)"
   ]
  },
  {
   "cell_type": "markdown",
   "metadata": {},
   "source": [
    "## Mutable vs Immutable types\n",
    "\n",
    "Lists and tuples are both types of data that store collections of elements. There is, though, a major difference between the two: lists are mutable, while tuples are immutable.\n",
    "\n",
    "The basic types we've seen in the previous chapters are all immutable (`bool`, `int`, `float`, `str`, `bytes`).\n",
    "\n",
    "What is the difference between mutable and immutable objects? Mutable objects can mutate i.e. we can change their attributes, or their internal value, while immutable objects are unchangeable.\n",
    "\n",
    "Let's take an example! In the examples below we'll use the built-in function `id()` which returns an unique identifier for an object (in CPython it returns the memory address of that object)."
   ]
  },
  {
   "cell_type": "code",
   "execution_count": 39,
   "metadata": {},
   "outputs": [
    {
     "data": {
      "text/plain": [
       "4336468336"
      ]
     },
     "execution_count": 39,
     "metadata": {},
     "output_type": "execute_result"
    }
   ],
   "source": [
    "num = 5\n",
    "id(num)"
   ]
  },
  {
   "cell_type": "code",
   "execution_count": 40,
   "metadata": {},
   "outputs": [
    {
     "data": {
      "text/plain": [
       "4336468368"
      ]
     },
     "execution_count": 40,
     "metadata": {},
     "output_type": "execute_result"
    }
   ],
   "source": [
    "num += 1\n",
    "id(num)"
   ]
  },
  {
   "cell_type": "code",
   "execution_count": 41,
   "metadata": {},
   "outputs": [
    {
     "data": {
      "text/plain": [
       "6"
      ]
     },
     "execution_count": 41,
     "metadata": {},
     "output_type": "execute_result"
    }
   ],
   "source": [
    "num"
   ]
  },
  {
   "cell_type": "code",
   "execution_count": 42,
   "metadata": {},
   "outputs": [
    {
     "data": {
      "text/plain": [
       "4383676480"
      ]
     },
     "execution_count": 42,
     "metadata": {},
     "output_type": "execute_result"
    }
   ],
   "source": [
    "lst = [5]\n",
    "id(lst)"
   ]
  },
  {
   "cell_type": "code",
   "execution_count": 43,
   "metadata": {},
   "outputs": [
    {
     "data": {
      "text/plain": [
       "4383676480"
      ]
     },
     "execution_count": 43,
     "metadata": {},
     "output_type": "execute_result"
    }
   ],
   "source": [
    "lst += [1]\n",
    "id(lst)"
   ]
  },
  {
   "cell_type": "code",
   "execution_count": 44,
   "metadata": {},
   "outputs": [
    {
     "data": {
      "text/plain": [
       "[5, 1]"
      ]
     },
     "execution_count": 44,
     "metadata": {},
     "output_type": "execute_result"
    }
   ],
   "source": [
    "lst"
   ]
  },
  {
   "cell_type": "markdown",
   "metadata": {},
   "source": [
    "In the example above, we've used the `+=` operator for an integer (immutable type) and for a list (mutable type). Notice how the id has changed for `num`, while for `lst` it remained unchanged.\n",
    "\n",
    "This difference is important because it helps us understand the inner workings of Python types. A type's nature (mutable/immutable), determines the operations it supports. For example, an immutable collection (`tuple`, `str`) does not support item assignment, while a mutable collection (`list`) does."
   ]
  },
  {
   "cell_type": "code",
   "execution_count": 45,
   "metadata": {},
   "outputs": [
    {
     "name": "stdout",
     "output_type": "stream",
     "text": [
      "'tuple' object does not support item assignment\n"
     ]
    }
   ],
   "source": [
    "tup = (1, 2, 3)\n",
    "try:\n",
    "    tup[0] = 100 \n",
    "except TypeError as ex:\n",
    "    print(ex)"
   ]
  },
  {
   "cell_type": "code",
   "execution_count": 46,
   "metadata": {},
   "outputs": [
    {
     "data": {
      "text/plain": [
       "[100, 2, 3]"
      ]
     },
     "execution_count": 46,
     "metadata": {},
     "output_type": "execute_result"
    }
   ],
   "source": [
    "lst = [1, 2, 3]\n",
    "lst[0] = 100\n",
    "lst"
   ]
  },
  {
   "cell_type": "markdown",
   "metadata": {},
   "source": [
    "## Exercises\n",
    "\n",
    "1. Create a tuple called `my_tuple` that contains the following items: `\"apple\", 2, True, \"banana\", 3.14`\n",
    "    - Print the entire tuple to the console.\n",
    "    - Print the third item in the tuple (True) to the console.\n",
    "    - Print the length of the tuple to the console.\n",
    "    - Try to change the second item in the tuple to \"pear\". What happens?\n",
    "    - Create a new tuple called `my_slice` that contains only the first three items from my_tuple.\n",
    "    - Print the entire `my_slice` tuple to the console.\n",
    "    - Use a for loop to print each item in `my_tuple` on a new line.\n",
    "    - Try to add a new item to `my_tuple`. What happens?\n",
    "1. Create two tuples called `tuple1` and `tuple2` that each contain three items of your choice. Combine the two tuples into a new tuple called `combined_tuple`. Print the entire `combined_tuple` to the console.\n",
    "1. Given two lists, create a list of tuples where element on position `n` is a tuple of elements on position `n` from each list. If one list is longer than the other, ignore extra elements.\n",
    "\n",
    "    E.g. `[\"Anna\", \"John\", \"Marie\"]`, `[12, 15, 22, 13]` -> `[(\"Anna\", 12), (\"John\", 15), (\"Marie\", 22)]`"
   ]
  },
  {
   "cell_type": "markdown",
   "metadata": {},
   "source": [
    "## Set types (`set` and `frozenset`)\n",
    "\n",
    "Sets and frozensets are collections of unordered elements. The elements of a set must be [hashable](https://docs.python.org/3/glossary.html#term-hashable). `frozenset` is the immutable counterpart of `set`.\n",
    "\n",
    "They can be constructed using their type constructors:\n",
    "* Empty set: `set()`, `frozenset()`\n",
    "* From an iterable: `set(iterable)`, `frozenset(iterable)`\n",
    "* Using curly brackets, separating items with commas: `{a, b, c}`"
   ]
  },
  {
   "cell_type": "code",
   "execution_count": 47,
   "metadata": {},
   "outputs": [],
   "source": [
    "s1 = set()\n",
    "s2 = set(range(6))\n",
    "s3 = set([1, 3, 5])\n",
    "s4 = {4, 5, 6, 7, 8}"
   ]
  },
  {
   "cell_type": "markdown",
   "metadata": {},
   "source": [
    "Instances of `set` and `frozenset` provide the following operations:\n",
    "\n",
    "#### `len(s)`\n",
    "Return the number of elements in set `s`."
   ]
  },
  {
   "cell_type": "code",
   "execution_count": 48,
   "metadata": {},
   "outputs": [
    {
     "data": {
      "text/plain": [
       "6"
      ]
     },
     "execution_count": 48,
     "metadata": {},
     "output_type": "execute_result"
    }
   ],
   "source": [
    "len(s2)"
   ]
  },
  {
   "cell_type": "markdown",
   "metadata": {},
   "source": [
    "#### Membership tests\n",
    "#### `x in s`\n",
    "Test `x` for membership in `s`.\n",
    "\n",
    "#### `x not in s`\n",
    "Test `x` for non-membership in `s`."
   ]
  },
  {
   "cell_type": "code",
   "execution_count": 49,
   "metadata": {},
   "outputs": [
    {
     "data": {
      "text/plain": [
       "True"
      ]
     },
     "execution_count": 49,
     "metadata": {},
     "output_type": "execute_result"
    }
   ],
   "source": [
    "3 in s2"
   ]
  },
  {
   "cell_type": "code",
   "execution_count": 50,
   "metadata": {},
   "outputs": [
    {
     "data": {
      "text/plain": [
       "True"
      ]
     },
     "execution_count": 50,
     "metadata": {},
     "output_type": "execute_result"
    }
   ],
   "source": [
    "0 not in s1"
   ]
  },
  {
   "cell_type": "markdown",
   "metadata": {},
   "source": [
    "#### `s.isdisjoint(other)`\n",
    "Return `True` if the `s` has no elements in common with `other`. Sets are disjoint if and only if their intersection is the empty set."
   ]
  },
  {
   "cell_type": "code",
   "execution_count": 51,
   "metadata": {},
   "outputs": [
    {
     "data": {
      "text/plain": [
       "True"
      ]
     },
     "execution_count": 51,
     "metadata": {},
     "output_type": "execute_result"
    }
   ],
   "source": [
    "s1.isdisjoint(s2)"
   ]
  },
  {
   "cell_type": "markdown",
   "metadata": {},
   "source": [
    "#### `s.issubset(other)`\n",
    "#### `s <= other`\n",
    "Test whether every element in `s` is in `other`.\n",
    "\n",
    "#### `s < other`\n",
    "Test whether `s` is a proper subset of `other`, that is, `s <= other and s != other`."
   ]
  },
  {
   "cell_type": "code",
   "execution_count": 52,
   "metadata": {},
   "outputs": [
    {
     "data": {
      "text/plain": [
       "False"
      ]
     },
     "execution_count": 52,
     "metadata": {},
     "output_type": "execute_result"
    }
   ],
   "source": [
    "s2 <= s3"
   ]
  },
  {
   "cell_type": "code",
   "execution_count": 53,
   "metadata": {},
   "outputs": [
    {
     "data": {
      "text/plain": [
       "True"
      ]
     },
     "execution_count": 53,
     "metadata": {},
     "output_type": "execute_result"
    }
   ],
   "source": [
    "s1 < s2"
   ]
  },
  {
   "cell_type": "markdown",
   "metadata": {},
   "source": [
    "#### `s.issuperset(other)`\n",
    "#### `s >= other`\n",
    "Test whether every element in `other` is in `s`.\n",
    "\n",
    "#### `s > other`\n",
    "Test whether `s` is a proper superset of `other`, that is, `s >= other and s != other`."
   ]
  },
  {
   "cell_type": "code",
   "execution_count": 54,
   "metadata": {},
   "outputs": [
    {
     "data": {
      "text/plain": [
       "False"
      ]
     },
     "execution_count": 54,
     "metadata": {},
     "output_type": "execute_result"
    }
   ],
   "source": [
    "s4.issuperset(s2)"
   ]
  },
  {
   "cell_type": "code",
   "execution_count": 55,
   "metadata": {},
   "outputs": [
    {
     "data": {
      "text/plain": [
       "True"
      ]
     },
     "execution_count": 55,
     "metadata": {},
     "output_type": "execute_result"
    }
   ],
   "source": [
    "s2 > s3"
   ]
  },
  {
   "cell_type": "markdown",
   "metadata": {},
   "source": [
    "#### `s.union(other)`\n",
    "#### `s | other`\n",
    "Return a new set with elements from `s` and `other`."
   ]
  },
  {
   "cell_type": "code",
   "execution_count": 56,
   "metadata": {},
   "outputs": [
    {
     "data": {
      "text/plain": [
       "{0, 1, 2, 3, 4, 5}"
      ]
     },
     "execution_count": 56,
     "metadata": {},
     "output_type": "execute_result"
    }
   ],
   "source": [
    "s2.union(s3)"
   ]
  },
  {
   "cell_type": "code",
   "execution_count": 57,
   "metadata": {},
   "outputs": [
    {
     "data": {
      "text/plain": [
       "{1, 3, 4, 5, 6, 7, 8}"
      ]
     },
     "execution_count": 57,
     "metadata": {},
     "output_type": "execute_result"
    }
   ],
   "source": [
    "s3 | s4"
   ]
  },
  {
   "cell_type": "markdown",
   "metadata": {},
   "source": [
    "#### `s.intersection(other)`\n",
    "#### `s & other`\n",
    "Return a new set with elements common to `s` and `other`."
   ]
  },
  {
   "cell_type": "code",
   "execution_count": 58,
   "metadata": {},
   "outputs": [
    {
     "data": {
      "text/plain": [
       "{1, 3, 5}"
      ]
     },
     "execution_count": 58,
     "metadata": {},
     "output_type": "execute_result"
    }
   ],
   "source": [
    "s2 & s3"
   ]
  },
  {
   "cell_type": "markdown",
   "metadata": {},
   "source": [
    "#### `s.difference(other)`\n",
    "#### `s - other`\n",
    "Return a new set with elements in `s` that are not `other`."
   ]
  },
  {
   "cell_type": "code",
   "execution_count": 59,
   "metadata": {},
   "outputs": [
    {
     "data": {
      "text/plain": [
       "{0, 2, 4}"
      ]
     },
     "execution_count": 59,
     "metadata": {},
     "output_type": "execute_result"
    }
   ],
   "source": [
    "s2.difference(s3)"
   ]
  },
  {
   "cell_type": "markdown",
   "metadata": {},
   "source": [
    "#### `s.symmetric_difference(other)`\n",
    "#### `s ^ other`"
   ]
  },
  {
   "cell_type": "code",
   "execution_count": 60,
   "metadata": {},
   "outputs": [
    {
     "data": {
      "text/plain": [
       "{1, 3, 4, 6, 7, 8}"
      ]
     },
     "execution_count": 60,
     "metadata": {},
     "output_type": "execute_result"
    }
   ],
   "source": [
    "s3 ^ s4"
   ]
  },
  {
   "cell_type": "markdown",
   "metadata": {},
   "source": [
    "There are also some operations available for `set` that do not apply to immutable instances of `frozenset`:"
   ]
  },
  {
   "cell_type": "markdown",
   "metadata": {},
   "source": [
    "#### `s.update(other)`\n",
    "#### `s |= other`\n",
    "Update `s`, adding elements from `other`."
   ]
  },
  {
   "cell_type": "code",
   "execution_count": 61,
   "metadata": {},
   "outputs": [
    {
     "data": {
      "text/plain": [
       "{0, 1, 2, 3, 4, 5}"
      ]
     },
     "execution_count": 61,
     "metadata": {},
     "output_type": "execute_result"
    }
   ],
   "source": [
    "s1.update(s2)\n",
    "s1"
   ]
  },
  {
   "cell_type": "markdown",
   "metadata": {},
   "source": [
    "#### `s.intersection_update(other)`\n",
    "#### `s &= other`\n",
    "Update `s`, keeping only elements found in it and `other`."
   ]
  },
  {
   "cell_type": "code",
   "execution_count": 62,
   "metadata": {},
   "outputs": [
    {
     "data": {
      "text/plain": [
       "{1, 3, 5}"
      ]
     },
     "execution_count": 62,
     "metadata": {},
     "output_type": "execute_result"
    }
   ],
   "source": [
    "s1 &= s3\n",
    "s1"
   ]
  },
  {
   "cell_type": "markdown",
   "metadata": {},
   "source": [
    "#### `s.difference_update(other)`\n",
    "#### `s -= other`\n",
    "Update `s`, removing elements found in `other`."
   ]
  },
  {
   "cell_type": "code",
   "execution_count": 63,
   "metadata": {},
   "outputs": [
    {
     "data": {
      "text/plain": [
       "{1, 3}"
      ]
     },
     "execution_count": 63,
     "metadata": {},
     "output_type": "execute_result"
    }
   ],
   "source": [
    "s1.difference_update(s4)\n",
    "s1"
   ]
  },
  {
   "cell_type": "markdown",
   "metadata": {},
   "source": [
    "#### `s.symmetric_difference_update(other)`\n",
    "#### `s ^= other`\n",
    "Update `s`, keeping only elements found in either set, but not in both."
   ]
  },
  {
   "cell_type": "code",
   "execution_count": 64,
   "metadata": {},
   "outputs": [
    {
     "data": {
      "text/plain": [
       "{1, 3, 4, 5, 6, 7, 8}"
      ]
     },
     "execution_count": 64,
     "metadata": {},
     "output_type": "execute_result"
    }
   ],
   "source": [
    "s1 ^= s4\n",
    "s1"
   ]
  },
  {
   "cell_type": "markdown",
   "metadata": {},
   "source": [
    "#### `s.add(elem)`\n",
    "Add element elem to the set."
   ]
  },
  {
   "cell_type": "code",
   "execution_count": 65,
   "metadata": {},
   "outputs": [
    {
     "data": {
      "text/plain": [
       "{1, 3, 4, 5, 6, 7, 8, 9}"
      ]
     },
     "execution_count": 65,
     "metadata": {},
     "output_type": "execute_result"
    }
   ],
   "source": [
    "s1.add(9)\n",
    "s1"
   ]
  },
  {
   "cell_type": "markdown",
   "metadata": {},
   "source": [
    "#### `s.remove(elem)`\n",
    "Remove element `elem` from the set. Raises `KeyError` if `elem` is not contained in the set."
   ]
  },
  {
   "cell_type": "code",
   "execution_count": 66,
   "metadata": {},
   "outputs": [
    {
     "data": {
      "text/plain": [
       "{1, 3, 4, 5, 6, 7, 9}"
      ]
     },
     "execution_count": 66,
     "metadata": {},
     "output_type": "execute_result"
    }
   ],
   "source": [
    "s1.remove(8)\n",
    "s1"
   ]
  },
  {
   "cell_type": "markdown",
   "metadata": {},
   "source": [
    "#### `s.discard(elem)`\n",
    "Remove element `elem` from the set if it is present."
   ]
  },
  {
   "cell_type": "code",
   "execution_count": 67,
   "metadata": {},
   "outputs": [
    {
     "data": {
      "text/plain": [
       "{1, 3, 4, 5, 6, 7, 9}"
      ]
     },
     "execution_count": 67,
     "metadata": {},
     "output_type": "execute_result"
    }
   ],
   "source": [
    "s1.discard(10)\n",
    "s1"
   ]
  },
  {
   "cell_type": "markdown",
   "metadata": {},
   "source": [
    "#### `s.pop()`\n",
    "Remove and return an arbitrary element from the set. Raises `KeyError` if the set is empty."
   ]
  },
  {
   "cell_type": "code",
   "execution_count": 68,
   "metadata": {},
   "outputs": [
    {
     "data": {
      "text/plain": [
       "1"
      ]
     },
     "execution_count": 68,
     "metadata": {},
     "output_type": "execute_result"
    }
   ],
   "source": [
    "s1.pop()"
   ]
  },
  {
   "cell_type": "markdown",
   "metadata": {},
   "source": [
    "#### `s.clear()`\n",
    "Remove all elements from the set."
   ]
  },
  {
   "cell_type": "code",
   "execution_count": 69,
   "metadata": {},
   "outputs": [
    {
     "data": {
      "text/plain": [
       "set()"
      ]
     },
     "execution_count": 69,
     "metadata": {},
     "output_type": "execute_result"
    }
   ],
   "source": [
    "s1.clear()\n",
    "s1"
   ]
  },
  {
   "cell_type": "markdown",
   "metadata": {},
   "source": [
    "## Exercises\n",
    "\n",
    "1. Given the following set:\n",
    "    ```python\n",
    "    s = set()\n",
    "    ```\n",
    "    * Add elements from the list `[1, 2, 3]` to the set and print the new set\n",
    "    * Print the length of the set\n",
    "    * Check if `4` is in the set\n",
    "    * Remove and print an arbitrary element from the set; print the new set\n",
    "    * Remove all remaining items in the set and print the new set\n",
    "    \n",
    "1. Create a set called `fruit_set` that contains the names of five different fruits. Add a new fruit to the `fruit_set`. Remove one of the fruits from the `fruit_set`. Print the new `fruit_set` to the console.\n",
    "1. Create a set called `visited_cities` that contains the names of five cities you have visited in the past. Create a second set called `bucket_list` that contains the names of three cities you want absolutely want to visit. \n",
    "    * Create the set `bucket_list_completed` which contains cities that are in both `visited_cities` and `bucket_list` (intersection). \n",
    "    * Create the set `all_cities` which contains cities that are in either `visited_cities` or `bucket_list` (union).\n",
    "    * Create the set `must_visit` which contains cities that are in `bucket_list`, but not in `visited_cities` (difference). \n",
    "1. Write a Python program that counts the number of distinct words from a string.\n",
    "A word=a sequence of characters that is not whitespace (space, newline, tab).\n",
    "    \n",
    "    E.g. \n",
    "    ```python\n",
    "    my_str = \"\"\"beautiful is better than ugly\n",
    "    explicit is better than implicit\n",
    "    simple is better than complex\n",
    "    complex is better than complicated\n",
    "    flat is better than nested\n",
    "    sparse is better than dense\"\"\"\n",
    "    # Should print: 14 distinct words\n",
    "    ```"
   ]
  },
  {
   "cell_type": "markdown",
   "metadata": {},
   "source": [
    "## Mapping types (`dict`)\n",
    "\n",
    "Dictionaries are collections of key-value pairs. The keys must be hashable objects, while values are can be any type of object.\n",
    "\n",
    "Dictionary order is guaranteed to be insertion order (since Python 3.7).\n",
    "\n",
    "Dictionaries can be created:\n",
    "* by placing a comma-separated list of `key: value` pairs within braces, for example: `{'jack': 4098, 'sjoerd': 4127}` or `{4098: 'jack', 4127: 'sjoerd'}`\n",
    "* by the dict constructor"
   ]
  },
  {
   "cell_type": "code",
   "execution_count": 70,
   "metadata": {},
   "outputs": [
    {
     "name": "stdout",
     "output_type": "stream",
     "text": [
      "{}\n",
      "{1083: 'pie', 1084: 'carrot cake', 1088: 'brownie'}\n",
      "{}\n",
      "{'apples': 4, 'bananas': 5}\n",
      "{1: 1.2, 2: 3.45, 3: 5.2, 4: 21}\n"
     ]
    }
   ],
   "source": [
    "d1 = {}  # empty dict\n",
    "d2 = {1083: 'pie', 1084: 'carrot cake', 1088: 'brownie'}\n",
    "d3 = dict()\n",
    "d4 = dict(apples=4, bananas=5)\n",
    "d5 = dict([(1, 1.2), (2, 3.45), (3, 5.2), (4, 21)])\n",
    "\n",
    "print(d1)\n",
    "print(d2)\n",
    "print(d3)\n",
    "print(d4)\n",
    "print(d5)"
   ]
  },
  {
   "cell_type": "markdown",
   "metadata": {},
   "source": [
    "These are the operations that dictionaries support:\n",
    "\n",
    "#### `list(d)`\n",
    "Return a list of all the keys used in the dictionary `d`."
   ]
  },
  {
   "cell_type": "code",
   "execution_count": 71,
   "metadata": {},
   "outputs": [
    {
     "data": {
      "text/plain": [
       "['apples', 'bananas']"
      ]
     },
     "execution_count": 71,
     "metadata": {},
     "output_type": "execute_result"
    }
   ],
   "source": [
    "list(d4)"
   ]
  },
  {
   "cell_type": "markdown",
   "metadata": {},
   "source": [
    "#### `len(d)`\n",
    "Return the number of items in the dictionary `d`."
   ]
  },
  {
   "cell_type": "code",
   "execution_count": 72,
   "metadata": {},
   "outputs": [
    {
     "data": {
      "text/plain": [
       "2"
      ]
     },
     "execution_count": 72,
     "metadata": {},
     "output_type": "execute_result"
    }
   ],
   "source": [
    "len(d4)"
   ]
  },
  {
   "cell_type": "markdown",
   "metadata": {},
   "source": [
    "#### `d[key]`\n",
    "Return the item of `d` with key `key`. Raises a `KeyError` if key is not in the map."
   ]
  },
  {
   "cell_type": "code",
   "execution_count": 73,
   "metadata": {},
   "outputs": [
    {
     "data": {
      "text/plain": [
       "4"
      ]
     },
     "execution_count": 73,
     "metadata": {},
     "output_type": "execute_result"
    }
   ],
   "source": [
    "d4['apples']"
   ]
  },
  {
   "cell_type": "code",
   "execution_count": 74,
   "metadata": {},
   "outputs": [
    {
     "name": "stdout",
     "output_type": "stream",
     "text": [
      "KeyError: 'apples'\n"
     ]
    }
   ],
   "source": [
    "try:\n",
    "    d1['apples']\n",
    "except KeyError as ex:\n",
    "    print('KeyError:', ex)"
   ]
  },
  {
   "cell_type": "markdown",
   "metadata": {},
   "source": [
    "#### `d[key] = value`\n",
    "Set `d[key]` to `value`. If `key` is present in `d`, update its value to `value`, otherwise add the `key:value` pair."
   ]
  },
  {
   "cell_type": "code",
   "execution_count": 75,
   "metadata": {},
   "outputs": [
    {
     "data": {
      "text/plain": [
       "{'apples': 100}"
      ]
     },
     "execution_count": 75,
     "metadata": {},
     "output_type": "execute_result"
    }
   ],
   "source": [
    "d1['apples'] = 100  # add element to dict\n",
    "d1"
   ]
  },
  {
   "cell_type": "code",
   "execution_count": 76,
   "metadata": {},
   "outputs": [
    {
     "data": {
      "text/plain": [
       "{'apples': 200}"
      ]
     },
     "execution_count": 76,
     "metadata": {},
     "output_type": "execute_result"
    }
   ],
   "source": [
    "d1['apples'] = 200  # update element in dict\n",
    "d1"
   ]
  },
  {
   "cell_type": "markdown",
   "metadata": {},
   "source": [
    "#### `del d[key]`\n",
    "Remove `d[key]` from `d`. Raises a `KeyError` if `key` is not in the map."
   ]
  },
  {
   "cell_type": "code",
   "execution_count": 77,
   "metadata": {},
   "outputs": [
    {
     "data": {
      "text/plain": [
       "{}"
      ]
     },
     "execution_count": 77,
     "metadata": {},
     "output_type": "execute_result"
    }
   ],
   "source": [
    "del d1['apples']\n",
    "d1"
   ]
  },
  {
   "cell_type": "markdown",
   "metadata": {},
   "source": [
    "#### `key in d`\n",
    "Return `True` if `d` has a key `key`, else `False`.\n",
    "\n",
    "#### `key not in d`\n",
    "Equivalent to `not key in d`."
   ]
  },
  {
   "cell_type": "code",
   "execution_count": 78,
   "metadata": {},
   "outputs": [
    {
     "data": {
      "text/plain": [
       "False"
      ]
     },
     "execution_count": 78,
     "metadata": {},
     "output_type": "execute_result"
    }
   ],
   "source": [
    "'apples' in d1"
   ]
  },
  {
   "cell_type": "markdown",
   "metadata": {},
   "source": [
    "#### `d.clear()`\n",
    "Remove all items from the dictionary."
   ]
  },
  {
   "cell_type": "code",
   "execution_count": 79,
   "metadata": {},
   "outputs": [
    {
     "data": {
      "text/plain": [
       "{}"
      ]
     },
     "execution_count": 79,
     "metadata": {},
     "output_type": "execute_result"
    }
   ],
   "source": [
    "d4.clear()\n",
    "d4"
   ]
  },
  {
   "cell_type": "markdown",
   "metadata": {},
   "source": [
    "#### `d.copy()`\n",
    "Return a shallow copy of the dictionary."
   ]
  },
  {
   "cell_type": "code",
   "execution_count": 80,
   "metadata": {},
   "outputs": [
    {
     "name": "stdout",
     "output_type": "stream",
     "text": [
      "True\n",
      "False\n"
     ]
    }
   ],
   "source": [
    "d6 = d5.copy()\n",
    "print(d6 == d5)\n",
    "print(d6 is d5)"
   ]
  },
  {
   "cell_type": "markdown",
   "metadata": {},
   "source": [
    "#### `d.get(key[, default])`\n",
    "Return the value for `key` if `key` is in the dictionary, else `default`. If `default` is not given, it defaults to `None`, so that this method never raises a `KeyError`."
   ]
  },
  {
   "cell_type": "code",
   "execution_count": 81,
   "metadata": {},
   "outputs": [
    {
     "name": "stdout",
     "output_type": "stream",
     "text": [
      "None\n"
     ]
    }
   ],
   "source": [
    "print(d1.get('apples'))"
   ]
  },
  {
   "cell_type": "code",
   "execution_count": 82,
   "metadata": {},
   "outputs": [
    {
     "data": {
      "text/plain": [
       "0"
      ]
     },
     "execution_count": 82,
     "metadata": {},
     "output_type": "execute_result"
    }
   ],
   "source": [
    "d1.get('apples', 0)"
   ]
  },
  {
   "cell_type": "markdown",
   "metadata": {},
   "source": [
    "#### `d.pop(key[, default])`\n",
    "If `key` is in the dictionary, remove it and return its value, else return `default`. If `default` is not given and `key` is not in the dictionary, a `KeyError` is raised."
   ]
  },
  {
   "cell_type": "code",
   "execution_count": 83,
   "metadata": {},
   "outputs": [
    {
     "data": {
      "text/plain": [
       "1.2"
      ]
     },
     "execution_count": 83,
     "metadata": {},
     "output_type": "execute_result"
    }
   ],
   "source": [
    "d5.pop(1)"
   ]
  },
  {
   "cell_type": "code",
   "execution_count": 84,
   "metadata": {},
   "outputs": [
    {
     "data": {
      "text/plain": [
       "{2: 3.45, 3: 5.2, 4: 21}"
      ]
     },
     "execution_count": 84,
     "metadata": {},
     "output_type": "execute_result"
    }
   ],
   "source": [
    "d5"
   ]
  },
  {
   "cell_type": "markdown",
   "metadata": {},
   "source": [
    "#### Iterating over dictionaries\n",
    "There are three dictionaries methods that allow iteration over dictionaries: `d.keys()`, `d.values()`, `d.items()`. The objects returned by these methods are *view objects*. They provide a dynamic view on the dictionary’s entries, which means that when the dictionary changes, the view reflects these changes."
   ]
  },
  {
   "cell_type": "code",
   "execution_count": 85,
   "metadata": {},
   "outputs": [
    {
     "name": "stdout",
     "output_type": "stream",
     "text": [
      "1083\n",
      "1084\n",
      "1088\n"
     ]
    }
   ],
   "source": [
    "for key in d2.keys():\n",
    "    print(key)"
   ]
  },
  {
   "cell_type": "code",
   "execution_count": 86,
   "metadata": {},
   "outputs": [
    {
     "name": "stdout",
     "output_type": "stream",
     "text": [
      "pie\n",
      "carrot cake\n",
      "brownie\n"
     ]
    }
   ],
   "source": [
    "for value in d2.values():\n",
    "    print(value)"
   ]
  },
  {
   "cell_type": "code",
   "execution_count": 87,
   "metadata": {},
   "outputs": [
    {
     "name": "stdout",
     "output_type": "stream",
     "text": [
      "id: 1083\tproduct: pie\n",
      "id: 1084\tproduct: carrot cake\n",
      "id: 1088\tproduct: brownie\n"
     ]
    }
   ],
   "source": [
    "for key, value in d2.items():\n",
    "    print(f'id: {key}\\tproduct: {value}')"
   ]
  },
  {
   "cell_type": "markdown",
   "metadata": {},
   "source": [
    "## Exercises\n",
    "\n",
    "1. Create a dictionary called `my_dict` that contains the following key-value pairs:\n",
    "    ```python\n",
    "    \"name\": \"John\"\n",
    "    \"age\": 30\n",
    "    \"occupation\": \"developer\"\n",
    "    \"city\": \"New York\"\n",
    "    ```\n",
    "    * Print the entire `my_dict` to the console.\n",
    "    * Use the `get()` method to print the value associated with the key \"occupation\" to the console.\n",
    "    * Add a new key-value pair to `my_dict` that represents John's salary. Set the salary to 75000.\n",
    "    * Modify the value associated with the key \"city\" to be \"San Francisco\".\n",
    "    * Print the entire `my_dict` to the console again to see the changes.\n",
    "    * Use the `pop()` method to remove the key-value pair associated with the key \"occupation\" from `my_dict`.\n",
    "    * Create a new dictionary called `new_dict` that contains the following key-value pairs:\n",
    "    ```python\n",
    "    \"occupation\": \"teacher\"\n",
    "    \"city\": \"Los Angeles\"\n",
    "    \"is_active\": False\n",
    "    ```\n",
    "    * Use the `update()` method to add all the key-value pairs from `new_dict` to `my_dict`.\n",
    "    * Print the entire `my_dict` to the console again to see the changes.\n",
    "    * Use a `for` loop to iterate over the items in `my_dict` and print each key and its associated value to the console.\n",
    "    \n",
    "1. Given the following dictionary:\n",
    "    ```python\n",
    "    d = {\n",
    "      'times': 100, \n",
    "      'name': 'George', \n",
    "      'hobbies': ['fishing', 'hiking'],\n",
    "    }\n",
    "    ```\n",
    "    * add key `'friends'` to `d` with `['Andrei', 'Mihai', 'Alina']` as value\n",
    "    * sort value for key `'friends'`\n",
    "    * remove `'hiking'` from hobbies list\n",
    "    * remove `'times'` key from `d`\n",
    "\n",
    "1. Given a list of strings build a dictionary that has each unique string as a key and the \n",
    "number of appearances as a value.\n",
    "    \n",
    "     E.g. `['hello', 'hello', 'is', 'there', 'anybody', 'in', 'there']` -> `{'hello': 2, 'is': 1, 'there': 2, 'anybody': 1, 'in': 1}`\n",
    "\n",
    "1. Create a dictionary of dictionaries to store the following data:\n",
    "\n",
    "    | id | Interface | IP      | status |\n",
    "    |----|-----------|---------|--------|\n",
    "    | 1  | Ethernet0 | 1.1.1.1 | up     |\n",
    "    | 2  | Ethernet1 | 2.2.2.2 | down   |\n",
    "    | 3  | Serial0   | 3.3.3.3 | up     |\n",
    "    | 4  | Serial1   | 4.4.4.4 | up     |\n",
    "\n",
    "    ```python\n",
    "    {\n",
    "        1: {\"interface\": \"Ethernet0\", \"ip\": \"1.1.1.1\", \"status\": \"up\"},\n",
    "        # 2: {...}\n",
    "    }\n",
    "    ```\n",
    "\n",
    "   * Write a python program to find the status of a given id\n",
    "   * Write a python program to find interface and IP of all interfaces which are up \n",
    "   * Write a python program to count how many ethernet interfaces there are\n",
    "   * Write a python program to add a new entry to the dictionary (auto-increment the id)"
   ]
  }
 ],
 "metadata": {
  "kernelspec": {
   "display_name": "Python 3 (ipykernel)",
   "language": "python",
   "name": "python3"
  },
  "language_info": {
   "codemirror_mode": {
    "name": "ipython",
    "version": 3
   },
   "file_extension": ".py",
   "mimetype": "text/x-python",
   "name": "python",
   "nbconvert_exporter": "python",
   "pygments_lexer": "ipython3",
   "version": "3.10.10"
  }
 },
 "nbformat": 4,
 "nbformat_minor": 4
}
