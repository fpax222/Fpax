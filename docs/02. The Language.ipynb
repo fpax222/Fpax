{
 "cells": [
  {
   "cell_type": "markdown",
   "metadata": {},
   "source": [
    "# The Language\n",
    "## Logical lines vs physical lines\n",
    "\n",
    "A physical line is what you see as a single line in the program whereas a logical line is what Python sees as a single line in the program or more appropriately, what Python sees as a single statement in the program.\n",
    "In general, the Python interpreter considers a physical line to be a single Python statement (i.e. a logical line). This is why you don't have to use `;` as a line termination character."
   ]
  },
  {
   "cell_type": "code",
   "execution_count": 12,
   "metadata": {},
   "outputs": [
    {
     "name": "stdout",
     "output_type": "stream",
     "text": [
      "Hello World!\n",
      "Bye! See you later!\n"
     ]
    }
   ],
   "source": [
    "print('Hello World!')\n",
    "print('Bye! See you later!')"
   ]
  },
  {
   "cell_type": "markdown",
   "metadata": {},
   "source": [
    "You can, however, write two or more logical lines on the same physical lines, but this is highly unrecommended."
   ]
  },
  {
   "cell_type": "code",
   "execution_count": 13,
   "metadata": {},
   "outputs": [
    {
     "name": "stdout",
     "output_type": "stream",
     "text": [
      "Not a very\n",
      "good idea\n"
     ]
    }
   ],
   "source": [
    "print('Not a very'); print('good idea')"
   ]
  },
  {
   "cell_type": "markdown",
   "metadata": {},
   "source": [
    "An interesting case is splitting a logical line into multiple physical lines. You can do this for a number of reasons:\n",
    "* better readability\n",
    "* splitting long lines (PEP8 recommends a maximum line length of 79 characters)\n",
    "\n",
    "#### Explicit line joining\n",
    "If we have a long logical line, we can split it into physical lines by using the backslash at the end of the line so that Python understands that the next physical line should be considered as part of the current logical line."
   ]
  },
  {
   "cell_type": "code",
   "execution_count": 14,
   "metadata": {},
   "outputs": [
    {
     "name": "stdout",
     "output_type": "stream",
     "text": [
      "A very long sentence ...\n"
     ]
    }
   ],
   "source": [
    "my_sentence = \\\n",
    "   \"A very long sentence ...\"\n",
    "print(my_sentence)"
   ]
  },
  {
   "cell_type": "markdown",
   "metadata": {},
   "source": [
    "#### Implicit line joining\n",
    "Sometimes, you don't need to specify the backslash to indicate a logical line that spans multiple physical lines. This usually happens when the logical lines uses parentheses, square brackets or curly brackets. "
   ]
  },
  {
   "cell_type": "code",
   "execution_count": 15,
   "metadata": {},
   "outputs": [
    {
     "name": "stdout",
     "output_type": "stream",
     "text": [
      "['apples', 'bananas', 'oranges', 'pears', 'peaches', 'cherries']\n"
     ]
    }
   ],
   "source": [
    "my_shopping_list = [\n",
    "    'apples',\n",
    "    'bananas',\n",
    "    'oranges',\n",
    "    'pears',\n",
    "    'peaches',\n",
    "    'cherries',\n",
    "]\n",
    "print(my_shopping_list)"
   ]
  },
  {
   "cell_type": "markdown",
   "metadata": {},
   "source": [
    "## Indentation\n",
    "\n",
    "Whitespace is important in Python. To be precise, whitespace at the beginning of the line is important. This is called **indentation**.\n",
    "While other programming languages use curly brackets to group together statements in the same block of statements, Python uses indentation. This contributes to a higher readability of the program. Let's see a little comparison:\n",
    "\n",
    "#### Javascript\n",
    "\n",
    "Indentation is not important in Javascript, and it is up to the programmer to decide how important readability is and how it can be achieved through indentation & line breaking.\n",
    "\n",
    "```javascript\n",
    "// The first draft is written in a very pythonic matter:\n",
    "var hour = 15;\n",
    "if (hour < 18) { \n",
    "  var greeting = \"Good day\"; \n",
    "} \n",
    "else { \n",
    "  var greeting = \"Good evening\"; \n",
    "}\n",
    "alert(greeting);\n",
    "\n",
    "// But we can also write is like this:\n",
    "var hour = 15;\n",
    "      if (hour < 18) { var greeting = \"Good day\";} \n",
    "else { var greeting = \"Good evening\"; }\n",
    "    alert(\n",
    "greeting);\n",
    "```\n",
    "\n",
    "#### Python\n",
    "\n",
    "In Python, indentation is part of the language, so we can say high readability is built-in."
   ]
  },
  {
   "cell_type": "code",
   "execution_count": 2,
   "metadata": {},
   "outputs": [
    {
     "name": "stdout",
     "output_type": "stream",
     "text": [
      "Good day\n"
     ]
    }
   ],
   "source": [
    "hour = 15\n",
    "if hour < 18:\n",
    "    greeting = \"Good day\"\n",
    "else:\n",
    "    greeting = \"Good evening\"\n",
    "\n",
    "print(greeting)"
   ]
  },
  {
   "cell_type": "markdown",
   "metadata": {},
   "source": [
    "### How to indent\n",
    "\n",
    "Do not use a mixture of spaces or tabs for the indentation as this will not work reliably. I strongly recommend that you use either four spaces or one tab for each indentation level.\n",
    "\n",
    "Use any of these two styles. More importantly, choose one and use it consistently.\n",
    "\n",
    "\n",
    "## Comments\n",
    "\n",
    "Comments are any text to the right of the `#` symbol and are mainly useful as notes for the reader of the program. They are ignored by the Python interpreter.\n"
   ]
  },
  {
   "cell_type": "code",
   "execution_count": 17,
   "metadata": {},
   "outputs": [
    {
     "name": "stdout",
     "output_type": "stream",
     "text": [
      "hello world\n",
      "hello world\n"
     ]
    }
   ],
   "source": [
    "print('hello world')  # Note that print is a function\n",
    "\n",
    "# Note that print is a function\n",
    "print('hello world')"
   ]
  },
  {
   "cell_type": "markdown",
   "metadata": {},
   "source": [
    "Try to write your code as simple, clear and explicit as possible:\n",
    "\n",
    "```python\n",
    "# Avoid this\n",
    "\n",
    "# List of python urls\n",
    "l = [\n",
    "    'https://www.python.org/',\n",
    "    'https://realpython.com/',\n",
    "]\n",
    "for x in l:\n",
    "    # print every url in list\n",
    "    print(x)\n",
    "```\n",
    "\n",
    "```python\n",
    "# Prefer this\n",
    "python_urls = [\n",
    "    'https://www.python.org/',\n",
    "    'https://realpython.com/',\n",
    "]\n",
    "for url in python_urls:\n",
    "    print(url)\n",
    "```\n",
    "Code is constantly updated and comments tend to remain stale.\n",
    "\n",
    "**Add comments however if you find them useful to:**\n",
    "\n",
    "* explain assumptions\n",
    "* explain important decisions\n",
    "* explain important details\n",
    "* explain problems you're trying to solve\n",
    "* explain problems you're trying to overcome in your program, etc.\n",
    "\n",
    "Code tells you how and should also tell you why; when this _why_ is not clear comments should be added.\n",
    "\n",
    "This is useful for readers of your program so that they can easily understand what the program is doing. Remember, that person can be yourself after six months!\n",
    "\n",
    "script1.py\n",
    "```python\n",
    "# This exact names are also used in script2.py\n",
    "# If you change them make sure you update both places\n",
    "statuses = [\n",
    "    'new',\n",
    "    'open',\n",
    "    'closed',\n",
    "]\n",
    "```\n",
    "\n",
    "## Docstrings\n",
    "\n",
    "Python docstrings are similar to comments, in that they are pieces of texts used to explain/describe your code. What is different is that docstrings are interpreted by Python and they are attached to your modules/classes/functions in a special attribute which you can inspect at runtime. Docstrings act as documentation.\n",
    "\n",
    "We have already used the built-in function `print`. Let's see its documentation (for this we'll be using another built-in function, `help`):"
   ]
  },
  {
   "cell_type": "code",
   "execution_count": 18,
   "metadata": {},
   "outputs": [
    {
     "name": "stdout",
     "output_type": "stream",
     "text": [
      "Help on built-in function print in module builtins:\n",
      "\n",
      "print(...)\n",
      "    print(value, ..., sep=' ', end='\\n', file=sys.stdout, flush=False)\n",
      "    \n",
      "    Prints the values to a stream, or to sys.stdout by default.\n",
      "    Optional keyword arguments:\n",
      "    file:  a file-like object (stream); defaults to the current sys.stdout.\n",
      "    sep:   string inserted between values, default a space.\n",
      "    end:   string appended after the last value, default a newline.\n",
      "    flush: whether to forcibly flush the stream.\n",
      "\n"
     ]
    }
   ],
   "source": [
    "help(print)"
   ]
  },
  {
   "cell_type": "markdown",
   "metadata": {},
   "source": [
    "We can also inspect the `__doc__` attribute, which is a string containing the inline documentation of the function i.e. the docstring."
   ]
  },
  {
   "cell_type": "code",
   "execution_count": 19,
   "metadata": {},
   "outputs": [
    {
     "data": {
      "text/plain": [
       "\"print(value, ..., sep=' ', end='\\\\n', file=sys.stdout, flush=False)\\n\\nPrints the values to a stream, or to sys.stdout by default.\\nOptional keyword arguments:\\nfile:  a file-like object (stream); defaults to the current sys.stdout.\\nsep:   string inserted between values, default a space.\\nend:   string appended after the last value, default a newline.\\nflush: whether to forcibly flush the stream.\""
      ]
     },
     "execution_count": 19,
     "metadata": {},
     "output_type": "execute_result"
    }
   ],
   "source": [
    "print.__doc__"
   ]
  },
  {
   "cell_type": "markdown",
   "metadata": {},
   "source": [
    "In order to write your own docstrings, you should place a 3-quote string immediately under the function/class definition or at the beginning of a module. We'll see more examples throughout the course."
   ]
  },
  {
   "cell_type": "code",
   "execution_count": 20,
   "metadata": {},
   "outputs": [],
   "source": [
    "def my_function():\n",
    "    \"\"\"This is a docstring. We should describe our function here.\"\"\"\n",
    "    return"
   ]
  },
  {
   "cell_type": "code",
   "execution_count": 21,
   "metadata": {},
   "outputs": [
    {
     "name": "stdout",
     "output_type": "stream",
     "text": [
      "Help on function my_function in module __main__:\n",
      "\n",
      "my_function()\n",
      "    This is a docstring. We should describe our function here.\n",
      "\n"
     ]
    }
   ],
   "source": [
    "help(my_function)"
   ]
  },
  {
   "cell_type": "code",
   "execution_count": 22,
   "metadata": {},
   "outputs": [
    {
     "data": {
      "text/plain": [
       "'This is a docstring. We should describe our function here.'"
      ]
     },
     "execution_count": 22,
     "metadata": {},
     "output_type": "execute_result"
    }
   ],
   "source": [
    "my_function.__doc__"
   ]
  },
  {
   "cell_type": "markdown",
   "metadata": {},
   "source": [
    "## Style guide (PEP8)\n",
    "\n",
    "Python has little constraints about code formating except for indentation and basic syntax. The _python community_ however has a strict set of rules for code formatting which contribute greatly to its high readability. PEP8 is the de facto code style guide for Python. A high quality, easy-to-read version of PEP8 is also available at https://pep8.org/.\n",
    "\n",
    "Conforming your Python code to PEP8 is generally a very good idea and helps make code more consistent when working on projects with other developers. It is taken into consideration to such extent that it's a condition to pass or fail an interview. IDEs with support for Python have an integrated PEP8 checker and will highlight the code and notify you with warnings when your code is not PEP8 compliant. You can also add a code style checking tool as part of your deployment; there are a number of such tools, for example:\n",
    "\n",
    "* [flake8](https://flake8.pycqa.org/en/latest/)\n",
    "* [pycodestyle](https://pycodestyle.pycqa.org/en/latest/intro.html)\n",
    "* [pylint](http://pylint.pycqa.org/en/latest/)"
   ]
  }
 ],
 "metadata": {
  "kernelspec": {
   "display_name": "Python 3 (ipykernel)",
   "language": "python",
   "name": "python3"
  },
  "language_info": {
   "codemirror_mode": {
    "name": "ipython",
    "version": 3
   },
   "file_extension": ".py",
   "mimetype": "text/x-python",
   "name": "python",
   "nbconvert_exporter": "python",
   "pygments_lexer": "ipython3",
   "version": "3.10.10"
  }
 },
 "nbformat": 4,
 "nbformat_minor": 4
}
