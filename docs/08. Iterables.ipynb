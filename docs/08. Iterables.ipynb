{
 "cells": [
  {
   "cell_type": "markdown",
   "metadata": {},
   "source": [
    "# Iterables\n",
    "\n",
    "## Comprehensions\n",
    "\n",
    "Comprehensions in Python provide us with a short and concise way to construct new iterables (such as lists, set, dictionary etc.) using iterables which have been already defined. Python supports the following 4 types of comprehensions:\n",
    "\n",
    "* List Comprehensions\n",
    "* Dictionary Comprehensions\n",
    "* Set Comprehensions\n",
    "* Generator Comprehensions (discussed in a following section)\n",
    "\n",
    "### List comprehensions\n",
    "\n",
    "#### `[expression_containing(x) for x in iterable]`"
   ]
  },
  {
   "cell_type": "code",
   "execution_count": 1,
   "metadata": {},
   "outputs": [
    {
     "data": {
      "text/plain": [
       "[0, 1, 8, 27, 64]"
      ]
     },
     "execution_count": 1,
     "metadata": {},
     "output_type": "execute_result"
    }
   ],
   "source": [
    "[x ** 3 for x in range(5)]"
   ]
  },
  {
   "cell_type": "code",
   "execution_count": 2,
   "metadata": {},
   "outputs": [
    {
     "data": {
      "text/plain": [
       "['Sun', 'Moon', 'Earth']"
      ]
     },
     "execution_count": 2,
     "metadata": {},
     "output_type": "execute_result"
    }
   ],
   "source": [
    "[s.capitalize() for s in ('sun', 'moon', 'earth')]"
   ]
  },
  {
   "cell_type": "code",
   "execution_count": 3,
   "metadata": {},
   "outputs": [
    {
     "data": {
      "text/plain": [
       "[[], [], [], [], [], [], [], [], [], []]"
      ]
     },
     "execution_count": 3,
     "metadata": {},
     "output_type": "execute_result"
    }
   ],
   "source": [
    "[[] for _ in range(10)]"
   ]
  },
  {
   "cell_type": "markdown",
   "metadata": {},
   "source": [
    "####  `[expression_containing(x) for x in iterable if condition(x)]`"
   ]
  },
  {
   "cell_type": "code",
   "execution_count": 4,
   "metadata": {},
   "outputs": [
    {
     "data": {
      "text/plain": [
       "[9, 81, 225]"
      ]
     },
     "execution_count": 4,
     "metadata": {},
     "output_type": "execute_result"
    }
   ],
   "source": [
    "[x ** 2 for x in range(20) if x % 3 == 0 and x % 2 != 0]"
   ]
  },
  {
   "cell_type": "markdown",
   "metadata": {},
   "source": [
    "### Dictionary comprehensions\n",
    "\n",
    "They are very similar to list comprehensions, but should build a key-value mapping."
   ]
  },
  {
   "cell_type": "code",
   "execution_count": 5,
   "metadata": {},
   "outputs": [
    {
     "data": {
      "text/plain": [
       "{'Jane': 4, 'Ann': 3, 'George': 6}"
      ]
     },
     "execution_count": 5,
     "metadata": {},
     "output_type": "execute_result"
    }
   ],
   "source": [
    "{name: len(name) for name in ['Jane', 'Ann', 'George']}"
   ]
  },
  {
   "cell_type": "code",
   "execution_count": 6,
   "metadata": {},
   "outputs": [
    {
     "data": {
      "text/plain": [
       "{1: 'one', 3: 'three'}"
      ]
     },
     "execution_count": 6,
     "metadata": {},
     "output_type": "execute_result"
    }
   ],
   "source": [
    "{x[0]: x[1] for x in [(1, 'one'), (2, 'two'), (3, 'three')] if x[0] % 2 == 1}"
   ]
  },
  {
   "cell_type": "code",
   "execution_count": 7,
   "metadata": {},
   "outputs": [
    {
     "data": {
      "text/plain": [
       "{1: 'one', 3: 'three'}"
      ]
     },
     "execution_count": 7,
     "metadata": {},
     "output_type": "execute_result"
    }
   ],
   "source": [
    "{k: v for k, v in [(1, 'one'), (2, 'two'), (3, 'three')] if k % 2 == 1}"
   ]
  },
  {
   "cell_type": "markdown",
   "metadata": {},
   "source": [
    "### Set comprehensions\n",
    "\n",
    "Again, similar to the two above, also use curly brackets, but they are flat."
   ]
  },
  {
   "cell_type": "code",
   "execution_count": 8,
   "metadata": {},
   "outputs": [
    {
     "data": {
      "text/plain": [
       "{1, 2, 3, 4}"
      ]
     },
     "execution_count": 8,
     "metadata": {},
     "output_type": "execute_result"
    }
   ],
   "source": [
    "{x for x in [1, 3, 1, 2, 4, 1, 4, 3, 3]}"
   ]
  },
  {
   "cell_type": "code",
   "execution_count": 9,
   "metadata": {},
   "outputs": [
    {
     "data": {
      "text/plain": [
       "{'c', 'e', 'h', 'i', 'm', 'n', 'o', 'p', 'r', 's', 't'}"
      ]
     },
     "execution_count": 9,
     "metadata": {},
     "output_type": "execute_result"
    }
   ],
   "source": [
    "{s for s in 'set comprehension 101' if s.isalpha()}"
   ]
  },
  {
   "cell_type": "markdown",
   "metadata": {},
   "source": [
    "## Exercises\n",
    "\n",
    "1. Write a list comprehension that creates a list of numbers from 1 to 20 that are divisible by 3.\n",
    "1. Write a list comprehension that creates a list of all the vowels in a given string.\n",
    "1. Write a list comprehension that creates a list of all the words in a given string that have more than 3 letters.\n",
    "1. Create a dict `{\"a\": 97, \"b\": 98, ... }` using comprehension. Use `ord` built-in to obtain ASCII code.\n",
    "Keys range from \"a\" to \"e\". \n",
    "    ```python\n",
    "    import string\n",
    "    string.ascii_lowercase  # 'abcdefghijklmnopqrstuvwxyz'\n",
    "    ord('a')  # 97\n",
    "    ```\n",
    "1. Using the dictionary generated above, create another one where you swap keys and values. \n",
    "1. Filter the above dictionary to contain only even keys. \n",
    "1. Can you obtain dictionary from above out of the given string (`\"abcde\"`) in a single dict comprehension? "
   ]
  },
  {
   "cell_type": "markdown",
   "metadata": {},
   "source": [
    "## Iterators\n",
    "\n",
    "In Python, an **iterable** is anything that you can iterate over. **Iterators** are lazy single-use iterables: \n",
    "\n",
    "* they are \"lazy\", because they have the ability to only compute items as you loop over them\n",
    "* they are \"single-use\", because once you've consumed an item from a iterator, you cannot go back to it; after looping over the iterator, it is exhausted\n",
    "\n",
    "You can get an iterator from any iterable, by using the `iter()` function:"
   ]
  },
  {
   "cell_type": "code",
   "execution_count": 10,
   "metadata": {},
   "outputs": [
    {
     "data": {
      "text/plain": [
       "<list_iterator at 0x1055507f0>"
      ]
     },
     "execution_count": 10,
     "metadata": {},
     "output_type": "execute_result"
    }
   ],
   "source": [
    "iter([1, 2])"
   ]
  },
  {
   "cell_type": "markdown",
   "metadata": {},
   "source": [
    "You can get the next item in an iterator by using the `next()` function:"
   ]
  },
  {
   "cell_type": "code",
   "execution_count": 11,
   "metadata": {},
   "outputs": [
    {
     "data": {
      "text/plain": [
       "'h'"
      ]
     },
     "execution_count": 11,
     "metadata": {},
     "output_type": "execute_result"
    }
   ],
   "source": [
    "my_iterator = iter('hi')\n",
    "next(my_iterator)"
   ]
  },
  {
   "cell_type": "code",
   "execution_count": 12,
   "metadata": {},
   "outputs": [
    {
     "data": {
      "text/plain": [
       "'i'"
      ]
     },
     "execution_count": 12,
     "metadata": {},
     "output_type": "execute_result"
    }
   ],
   "source": [
    "next(my_iterator)"
   ]
  },
  {
   "cell_type": "markdown",
   "metadata": {},
   "source": [
    "`StopIteration` is raised when there are no more items in the iterator:"
   ]
  },
  {
   "cell_type": "code",
   "execution_count": 13,
   "metadata": {},
   "outputs": [
    {
     "ename": "StopIteration",
     "evalue": "",
     "output_type": "error",
     "traceback": [
      "\u001b[0;31m---------------------------------------------------------------------------\u001b[0m",
      "\u001b[0;31mStopIteration\u001b[0m                             Traceback (most recent call last)",
      "\u001b[0;32m/var/folders/s2/_752pzb50tg00mv9ggtr6p8c0000gn/T/ipykernel_76545/101263484.py\u001b[0m in \u001b[0;36m<module>\u001b[0;34m\u001b[0m\n\u001b[0;32m----> 1\u001b[0;31m \u001b[0mnext\u001b[0m\u001b[0;34m(\u001b[0m\u001b[0mmy_iterator\u001b[0m\u001b[0;34m)\u001b[0m\u001b[0;34m\u001b[0m\u001b[0;34m\u001b[0m\u001b[0m\n\u001b[0m",
      "\u001b[0;31mStopIteration\u001b[0m: "
     ]
    }
   ],
   "source": [
    "next(my_iterator)"
   ]
  },
  {
   "cell_type": "markdown",
   "metadata": {},
   "source": [
    "All iterators are also iterables, meaning you can get an iterator from an iterator (it’ll give you itself back):"
   ]
  },
  {
   "cell_type": "code",
   "execution_count": 14,
   "metadata": {},
   "outputs": [
    {
     "data": {
      "text/plain": [
       "True"
      ]
     },
     "execution_count": 14,
     "metadata": {},
     "output_type": "execute_result"
    }
   ],
   "source": [
    "my_iterator = iter([1, 2])\n",
    "other_iterator = iter(my_iterator)\n",
    "my_iterator == other_iterator"
   ]
  },
  {
   "cell_type": "markdown",
   "metadata": {},
   "source": [
    "You can iterate on iterators:"
   ]
  },
  {
   "cell_type": "code",
   "execution_count": 15,
   "metadata": {},
   "outputs": [
    {
     "name": "stdout",
     "output_type": "stream",
     "text": [
      "1\n",
      "2\n"
     ]
    }
   ],
   "source": [
    "for item in my_iterator:\n",
    "    print(item)"
   ]
  },
  {
   "cell_type": "markdown",
   "metadata": {},
   "source": [
    "Iterators are stateful, meaning once you’ve consumed an item from an iterator, it’s gone. After you’ve looped over an iterator once, it’ll be empty if you try to loop over it again:"
   ]
  },
  {
   "cell_type": "code",
   "execution_count": 16,
   "metadata": {},
   "outputs": [
    {
     "name": "stdout",
     "output_type": "stream",
     "text": [
      "[]\n"
     ]
    }
   ],
   "source": [
    "items_left = []\n",
    "for item in my_iterator:\n",
    "    items_left.append(item)\n",
    "print(items_left)"
   ]
  },
  {
   "cell_type": "markdown",
   "metadata": {},
   "source": [
    "## Generators\n",
    "\n",
    "Python generators are a simple way of creating iterators. Simply speaking, a generator is a function that returns an object (iterator) which we can iterate over (one value at a time).\n",
    "Read more on differences between iterables, iterators and generators [here](https://nvie.com/posts/iterators-vs-generators/).\n",
    "\n",
    "### Generator functions\n",
    "\n",
    "Generator functions use `yield` keyword instead of `return`. The difference is that while a `return` statement terminates a function entirely, `yield` statement pauses the function saving all its states and later continues from there on successive calls."
   ]
  },
  {
   "cell_type": "code",
   "execution_count": 17,
   "metadata": {},
   "outputs": [
    {
     "data": {
      "text/plain": [
       "<generator object generator_func at 0x1055d4c80>"
      ]
     },
     "execution_count": 17,
     "metadata": {},
     "output_type": "execute_result"
    }
   ],
   "source": [
    "def generator_func():\n",
    "    yield 1\n",
    "    yield 2\n",
    "gen_obj = generator_func()\n",
    "gen_obj"
   ]
  },
  {
   "cell_type": "markdown",
   "metadata": {},
   "source": [
    "The resulting generator object is an iterator. We can get items from it using `next()`:"
   ]
  },
  {
   "cell_type": "code",
   "execution_count": 18,
   "metadata": {},
   "outputs": [
    {
     "name": "stdout",
     "output_type": "stream",
     "text": [
      "1\n",
      "2\n",
      "Generator exhausted.\n"
     ]
    }
   ],
   "source": [
    "while True:\n",
    "    try:\n",
    "        print(next(gen_obj))\n",
    "    except StopIteration:\n",
    "        print('Generator exhausted.')\n",
    "        break"
   ]
  },
  {
   "cell_type": "markdown",
   "metadata": {},
   "source": [
    "Normally, generator functions are implemented with a loop having a suitable terminating condition."
   ]
  },
  {
   "cell_type": "code",
   "execution_count": 19,
   "metadata": {},
   "outputs": [],
   "source": [
    "def squares(start, stop):\n",
    "    rng = range(start, stop)\n",
    "    for i in rng:\n",
    "        yield i ** 2"
   ]
  },
  {
   "cell_type": "code",
   "execution_count": 20,
   "metadata": {},
   "outputs": [
    {
     "name": "stdout",
     "output_type": "stream",
     "text": [
      "10000\n",
      "10201\n",
      "10404\n",
      "10609\n",
      "10816\n"
     ]
    }
   ],
   "source": [
    "for num in squares(100, 105):\n",
    "    print(num)"
   ]
  },
  {
   "cell_type": "markdown",
   "metadata": {},
   "source": [
    "### Generator expressions\n",
    "\n",
    "Simple generators can be easily created on the fly using generator expressions. Generator expressions look very similar to list comprehension, but they use parantheses instead of square brackets.\n",
    "\n",
    "They have lazy execution (producing items only when asked for). For this reason, a generator expression is much more memory efficient than an equivalent list comprehension."
   ]
  },
  {
   "cell_type": "code",
   "execution_count": 21,
   "metadata": {},
   "outputs": [
    {
     "name": "stdout",
     "output_type": "stream",
     "text": [
      "<generator object <genexpr> at 0x1055d50e0>\n",
      "10000\n",
      "10201\n",
      "10404\n",
      "10609\n",
      "10816\n"
     ]
    }
   ],
   "source": [
    "squares_generator = (x ** 2 for x in range(100, 105))\n",
    "print(squares_generator)\n",
    "for num in squares_generator:\n",
    "    print(num)"
   ]
  },
  {
   "cell_type": "markdown",
   "metadata": {},
   "source": [
    "## Exercises\n",
    "\n",
    "1. Write a generator function that takes a list of numbers and yields only the even numbers from the list.\n",
    "1. Create a generator function that receives a parameter `max_nr` and yields a random number between `1` and `max_nr`, indefinitely. From outside, iterate it in a loop that stops after 10 cycles. \n",
    "    ```python\n",
    "    import random\n",
    "    random.randint(1, 10)  # returns a random integer between 1 and 10\n",
    "    ```\n",
    "1. Write a generator function that yields unique elements from an iterable received as parameter."
   ]
  },
  {
   "cell_type": "markdown",
   "metadata": {},
   "source": [
    "## Anonymous functions (`lambda`)\n",
    "\n",
    "Python lambdas are short, anonymous functions, subject to a more restrictive but more concise syntax than regular Python functions. They are throw away functions, one purpose only, used mainly as parameters to functions that expect callables.\n",
    "\n",
    "#### Syntax: `lambda arguments: expression`\n",
    "\n",
    "A lambda function can have any number of arguments but can have only one expression. It cannot contain any statements and it returns a function object."
   ]
  },
  {
   "cell_type": "code",
   "execution_count": 22,
   "metadata": {},
   "outputs": [
    {
     "data": {
      "text/plain": [
       "<function __main__.<lambda>(x)>"
      ]
     },
     "execution_count": 22,
     "metadata": {},
     "output_type": "execute_result"
    }
   ],
   "source": [
    "lambda x: x + 2"
   ]
  },
  {
   "cell_type": "code",
   "execution_count": 23,
   "metadata": {},
   "outputs": [
    {
     "data": {
      "text/plain": [
       "225"
      ]
     },
     "execution_count": 23,
     "metadata": {},
     "output_type": "execute_result"
    }
   ],
   "source": [
    "(lambda x: x ** 2)(15)"
   ]
  },
  {
   "cell_type": "code",
   "execution_count": 24,
   "metadata": {},
   "outputs": [
    {
     "data": {
      "text/plain": [
       "4"
      ]
     },
     "execution_count": 24,
     "metadata": {},
     "output_type": "execute_result"
    }
   ],
   "source": [
    "(lambda x, y: x.index(y))(\"say something\", \"some\")"
   ]
  },
  {
   "cell_type": "markdown",
   "metadata": {},
   "source": [
    "## Built-in functions (`filter`, `map`, `enumerate`, `sorted`, `zip`)\n",
    "\n",
    "These are some of the most important built-in functions that receive iterables as parameters and produce iterables.\n",
    "\n",
    "#### `filter(function, iterable)`\n",
    "Construct an iterator from those elements of iterable for which function returns true."
   ]
  },
  {
   "cell_type": "code",
   "execution_count": 25,
   "metadata": {},
   "outputs": [
    {
     "name": "stdout",
     "output_type": "stream",
     "text": [
      "(0, 1)\n",
      "hello\n"
     ]
    }
   ],
   "source": [
    "for x in filter(len, [(), [], (0, 1), '', 'hello']):\n",
    "    print(x)"
   ]
  },
  {
   "cell_type": "code",
   "execution_count": 26,
   "metadata": {},
   "outputs": [
    {
     "name": "stdout",
     "output_type": "stream",
     "text": [
      "2\n",
      "6\n",
      "8\n"
     ]
    }
   ],
   "source": [
    "for nr in filter(lambda x: x % 2 == 0, [2, 1, 6, 8, 3, 5]):\n",
    "    print(nr)"
   ]
  },
  {
   "cell_type": "markdown",
   "metadata": {},
   "source": [
    "#### `map(function, iterable)`\n",
    "Return an iterator that applies function to every item of iterable, yielding the results."
   ]
  },
  {
   "cell_type": "code",
   "execution_count": 27,
   "metadata": {},
   "outputs": [
    {
     "name": "stdout",
     "output_type": "stream",
     "text": [
      "Paris\n",
      "London\n",
      "Milan\n"
     ]
    }
   ],
   "source": [
    "for x in map(str.capitalize, ['paris', 'london', 'milan']):\n",
    "    print(x)"
   ]
  },
  {
   "cell_type": "code",
   "execution_count": 28,
   "metadata": {},
   "outputs": [
    {
     "name": "stdout",
     "output_type": "stream",
     "text": [
      "0\n",
      "1\n",
      "8\n",
      "27\n",
      "64\n"
     ]
    }
   ],
   "source": [
    "for nr in map(lambda x: x ** 3, range(5)):\n",
    "    print(nr)"
   ]
  },
  {
   "cell_type": "markdown",
   "metadata": {},
   "source": [
    "#### `enumerate(iterable, start=0)`\n",
    "Returns an enumerate object which is an iterator that yields tuples containing a count (from start which defaults to 0) and the values obtained from iterating over iterable."
   ]
  },
  {
   "cell_type": "code",
   "execution_count": 29,
   "metadata": {},
   "outputs": [
    {
     "name": "stdout",
     "output_type": "stream",
     "text": [
      "0 h\n",
      "1 e\n",
      "2 l\n",
      "3 l\n",
      "4 o\n"
     ]
    }
   ],
   "source": [
    "for index, char in enumerate(\"hello\"):\n",
    "    print(index, char)"
   ]
  },
  {
   "cell_type": "markdown",
   "metadata": {},
   "source": [
    "#### `sorted(iterable, key=None, reverse=False)`\n",
    "Return a new sorted list from the items in iterable.\n",
    "\n",
    "Has two optional arguments which must be specified as keyword arguments:\n",
    "\n",
    "* `key` specifies a function of one argument that is used to extract a comparison key from each element in iterable (for example, `key=str.lower`). The default value is None (compare the elements directly).\n",
    "* `reverse` is a boolean value. If set to True, then the list elements are sorted as if each comparison were reversed."
   ]
  },
  {
   "cell_type": "code",
   "execution_count": 30,
   "metadata": {},
   "outputs": [
    {
     "data": {
      "text/plain": [
       "['hello', 'bye', 'hi']"
      ]
     },
     "execution_count": 30,
     "metadata": {},
     "output_type": "execute_result"
    }
   ],
   "source": [
    "sorted(('hi', 'hello', 'bye'), key=len, reverse=True)"
   ]
  },
  {
   "cell_type": "markdown",
   "metadata": {},
   "source": [
    "#### `zip(*iterables)`\n",
    "Make an iterator that aggregates elements from each of the iterables.\n",
    "\n",
    "Returns an iterator of tuples, where the i-th tuple contains the i-th element from each of the argument sequences or iterables. The iterator stops when the shortest input iterable is exhausted."
   ]
  },
  {
   "cell_type": "code",
   "execution_count": 31,
   "metadata": {},
   "outputs": [
    {
     "name": "stdout",
     "output_type": "stream",
     "text": [
      "Ann 20\n",
      "Luke 27\n",
      "Jane 34\n"
     ]
    }
   ],
   "source": [
    "for name, age in zip(['Anne', 'Luke', 'Jane'], range(20, 40, 7)):\n",
    "    print(name, age)"
   ]
  },
  {
   "cell_type": "markdown",
   "metadata": {},
   "source": [
    "## `itertools` module"
   ]
  },
  {
   "cell_type": "markdown",
   "metadata": {},
   "source": [
    "This module implements a series of functions creating iterators for efficient looping. More details in the [official documentation](https://docs.python.org/3/library/itertools.html)."
   ]
  },
  {
   "cell_type": "markdown",
   "metadata": {},
   "source": [
    "## Exercises\n",
    "\n",
    "1. Write a function `filter_short_words(word_list, n)` that returns the words in `word_list` shorter than `n`. Use `filter` built-in function and a lambda function.\n",
    "1. Write a function that takes a list of tuples, where each tuple contains two integers, and returns a new list containing the product of the two integers in each tuple. Use the `map` function and a lambda function to implement this.\n",
    "1. Write a function that takes a list of integers and returns a new list containing the squares of all even numbers in the original list. Use the `filter`, `map`, and lambda functions to implement this.\n",
    "1. Write a function that receives any number of strings and returns the list of unique strings ordered by number of appearances (most frequent → least frequent). \n",
    "Use `sorted` built-in function.\n",
    "    \n",
    "    E.g. `f('hello', 'there', 'hello', 'hi', 'hi', 'hello')` -> `['hello', 'hi', 'there']`\n",
    "1. Write your own implementation for map function (or any other function mentioned above)."
   ]
  }
 ],
 "metadata": {
  "kernelspec": {
   "display_name": "Python 3 (ipykernel)",
   "language": "python",
   "name": "python3"
  },
  "language_info": {
   "codemirror_mode": {
    "name": "ipython",
    "version": 3
   },
   "file_extension": ".py",
   "mimetype": "text/x-python",
   "name": "python",
   "nbconvert_exporter": "python",
   "pygments_lexer": "ipython3",
   "version": "3.10.10"
  }
 },
 "nbformat": 4,
 "nbformat_minor": 4
}
