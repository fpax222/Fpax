{
 "cells": [
  {
   "cell_type": "markdown",
   "metadata": {},
   "source": [
    "# Control flow\n",
    "\n",
    "## Conditionals (`if` statement)\n",
    "\n",
    "`if` statement is used to verify a condition and execute the code in the `if` clause only if that condition evaluates as `True`."
   ]
  },
  {
   "cell_type": "code",
   "execution_count": 26,
   "metadata": {},
   "outputs": [
    {
     "name": "stdout",
     "output_type": "stream",
     "text": [
      "Congrats! You passed!\n"
     ]
    }
   ],
   "source": [
    "grade = 7\n",
    "if grade > 5:\n",
    "    print('Congrats! You passed!')"
   ]
  },
  {
   "cell_type": "markdown",
   "metadata": {},
   "source": [
    "You can add any number of `elif` clauses to check for alternative conditions. In Python, `if` is the only conditional statement; if you need something similar to a `case` or a `switch` from other languages, simply add more `elif` clauses. The `else` clause is also called the default condition. If all of the conditions above it are `False`, the code block under `else` will be executed. An `if` statement must define the `if` clause; `elif` and `else` are optional."
   ]
  },
  {
   "cell_type": "code",
   "execution_count": 27,
   "metadata": {},
   "outputs": [
    {
     "name": "stdout",
     "output_type": "stream",
     "text": [
      "Good job!\n"
     ]
    }
   ],
   "source": [
    "if (grade == 10) or (grade > 20):\n",
    "    print('Wow! Maximum grade!')\n",
    "elif grade >= 7:\n",
    "    print('Good job!')\n",
    "elif grade >= 5:\n",
    "    print('You could have done better.')\n",
    "else:\n",
    "    print('Oh, no! :(')"
   ]
  },
  {
   "cell_type": "markdown",
   "metadata": {},
   "source": [
    "## Looping (`while` and `for` statements)\n",
    "\n",
    "A `while` statement is used to execute a block of code while a condition evaluates as True."
   ]
  },
  {
   "cell_type": "code",
   "execution_count": 28,
   "metadata": {},
   "outputs": [
    {
     "name": "stdout",
     "output_type": "stream",
     "text": [
      "It's the final countdown!\n",
      "5\n",
      "4\n",
      "3\n",
      "2\n",
      "1\n",
      "Boom!\n"
     ]
    }
   ],
   "source": [
    "x = 5\n",
    "print(\"It's the final countdown!\")\n",
    "while x:\n",
    "    print(x)\n",
    "    x -= 1  # x = x - 1\n",
    "print(\"Boom!\")"
   ]
  },
  {
   "cell_type": "markdown",
   "metadata": {},
   "source": [
    "A `for` statement is used to iterate over an iterable object and do something for each element. It is similar to `foreach` in other programming languages. `for` is often the preferred looping statement because *iterable* objects are widely used in Python. For the moment, we can experiment with `str` - the iterable type we have studied so far: "
   ]
  },
  {
   "cell_type": "code",
   "execution_count": 29,
   "metadata": {
    "scrolled": true
   },
   "outputs": [
    {
     "name": "stdout",
     "output_type": "stream",
     "text": [
      "h\n",
      "e\n",
      "l\n",
      "l\n",
      "o\n"
     ]
    }
   ],
   "source": [
    "greeting = 'hello'\n",
    "for character in greeting:\n",
    "    print(character)"
   ]
  },
  {
   "cell_type": "markdown",
   "metadata": {},
   "source": [
    "## The `range()` function\n",
    "\n",
    "In order to emulate the behavior of `for` statements as we know them from other languages:\n",
    "\n",
    "```javascript\n",
    "for (i=0; i<10; i++) {\n",
    "  do_something(i);\n",
    "}\n",
    "```\n",
    "\n",
    "in Python, we use the `range()` built-in function:"
   ]
  },
  {
   "cell_type": "code",
   "execution_count": 30,
   "metadata": {},
   "outputs": [
    {
     "name": "stdout",
     "output_type": "stream",
     "text": [
      "0\n",
      "1\n",
      "2\n",
      "3\n",
      "4\n"
     ]
    }
   ],
   "source": [
    "for i in range(5):\n",
    "    print(i)"
   ]
  },
  {
   "cell_type": "markdown",
   "metadata": {},
   "source": [
    "`range` can be called with a single argument `stop`, producing the sequence of consecutive numbers between `0` and `stop - 1`, like above.\n",
    "\n",
    "Another variation of `range` call is `range(start, stop, step)` which starts with `start`, adds `step` on every iteration and stops when it reaches `stop`:"
   ]
  },
  {
   "cell_type": "code",
   "execution_count": 31,
   "metadata": {},
   "outputs": [
    {
     "name": "stdout",
     "output_type": "stream",
     "text": [
      "10\n",
      "8\n",
      "6\n",
      "4\n",
      "2\n"
     ]
    }
   ],
   "source": [
    "for i in range(10, 0, -2):\n",
    "    print(i)"
   ]
  },
  {
   "cell_type": "markdown",
   "metadata": {},
   "source": [
    "## Loop alteration (`break` and `continue` statements)\n",
    "\n",
    "The `break` statement terminates the loop containing it. Control of the program flows to the statement immediately after the body of the loop.\n",
    "\n",
    "If the `break` statement is inside a nested loop (loop inside another loop), the `break` statement will terminate the innermost loop."
   ]
  },
  {
   "cell_type": "code",
   "execution_count": 32,
   "metadata": {},
   "outputs": [
    {
     "name": "stdout",
     "output_type": "stream",
     "text": [
      "h\n",
      "e\n"
     ]
    }
   ],
   "source": [
    "for character in 'hello':\n",
    "    if character == 'l':\n",
    "        break\n",
    "    print(character)"
   ]
  },
  {
   "cell_type": "markdown",
   "metadata": {},
   "source": [
    "The `continue` statement is used to skip the rest of the code inside a loop for the current iteration only. Loop does not terminate but continues on with the next iteration."
   ]
  },
  {
   "cell_type": "code",
   "execution_count": 33,
   "metadata": {},
   "outputs": [
    {
     "name": "stdout",
     "output_type": "stream",
     "text": [
      "h\n",
      "e\n",
      "o\n"
     ]
    }
   ],
   "source": [
    "for character in 'hello':\n",
    "    if character == 'l':\n",
    "        continue\n",
    "    print(character)"
   ]
  },
  {
   "cell_type": "markdown",
   "metadata": {},
   "source": [
    "## Exercises\n",
    "\n",
    "1. Write a program that prints all integers between 500 and 525 (inclusive) using a `for` loop.\n",
    "1. Do the same as the previous exercise, but this time with a `while` loop.\n",
    "1. Do the same as exercise 1, but this time print only even numbers.\n",
    "1. Write a program that computes the sum of all numbers between 100 and 150.\n",
    "1. Write a Python program for checking the speed of drivers. \n",
    "    * If speed is less than or equal to 50, it should print `\"OK\"`.\n",
    "    * Otherwise, for every 5 km above the speed limit (50), it should give the \n",
    "    driver one demerit point and print the total number of demerit points. \n",
    "    For example, if the speed is 60, it should print: `\"Points: 2\"`.\n",
    "    * If the driver gets more than 12 points, it should print: \n",
    "    `\"License suspended\"`\n",
    " \n",
    "   Define a variable called `speed` and assign an integer value to it. \n",
    "   After running the program once, change its value and notice the changed output.\n",
    "\n",
    "1. Write a Python program which iterates the integers from 1 to 50 and prints their value. \n",
    " For multiples of three print `\"Fizz\"` instead of the number and for the \n",
    " multiples of five print `\"Buzz\"`. For numbers which are multiples of both three\n",
    " and five print `\"FizzBuzz\"`. If the number 30 is encountered, break the loop.\n",
    "\n",
    "    Output example: `1 2 Fizz 4 Buzz [...] 13 14 FizzBuzz 16 [...]`"
   ]
  },
  {
   "cell_type": "markdown",
   "metadata": {},
   "source": [
    "## Exception handling (`try` statement)"
   ]
  },
  {
   "cell_type": "markdown",
   "metadata": {},
   "source": [
    "Python has many [built-in exceptions](https://docs.python.org/3/library/exceptions.html) that are raised when your program encounters an error (something in the program goes wrong).\n",
    "\n",
    "When these exceptions occur, the Python interpreter stops the current process and passes it to the calling process until it is handled. If not handled, the program will crash.\n",
    "\n",
    "In Python, exceptions can be handled using a `try` statement.\n",
    "\n",
    "The critical operation which can raise an exception is placed inside the `try` clause. The code that handles the exceptions is written in the `except` clause."
   ]
  },
  {
   "cell_type": "code",
   "execution_count": 34,
   "metadata": {},
   "outputs": [
    {
     "ename": "IndexError",
     "evalue": "string index out of range",
     "output_type": "error",
     "traceback": [
      "\u001b[0;31m---------------------------------------------------------------------------\u001b[0m",
      "\u001b[0;31mIndexError\u001b[0m                                Traceback (most recent call last)",
      "\u001b[0;32m/var/folders/s2/_752pzb50tg00mv9ggtr6p8c0000gn/T/ipykernel_76342/2462899371.py\u001b[0m in \u001b[0;36m<module>\u001b[0;34m\u001b[0m\n\u001b[1;32m      1\u001b[0m \u001b[0mgreeting\u001b[0m \u001b[0;34m=\u001b[0m \u001b[0;34m'hello'\u001b[0m\u001b[0;34m\u001b[0m\u001b[0;34m\u001b[0m\u001b[0m\n\u001b[0;32m----> 2\u001b[0;31m \u001b[0mprint\u001b[0m\u001b[0;34m(\u001b[0m\u001b[0mgreeting\u001b[0m\u001b[0;34m[\u001b[0m\u001b[0;36m5\u001b[0m\u001b[0;34m]\u001b[0m\u001b[0;34m)\u001b[0m\u001b[0;34m\u001b[0m\u001b[0;34m\u001b[0m\u001b[0m\n\u001b[0m",
      "\u001b[0;31mIndexError\u001b[0m: string index out of range"
     ]
    }
   ],
   "source": [
    "greeting = 'hello'\n",
    "print(greeting[5])"
   ]
  },
  {
   "cell_type": "markdown",
   "metadata": {},
   "source": [
    "Let's catch the exception:"
   ]
  },
  {
   "cell_type": "code",
   "execution_count": 35,
   "metadata": {},
   "outputs": [
    {
     "name": "stdout",
     "output_type": "stream",
     "text": [
      "Exception occurred!\n"
     ]
    }
   ],
   "source": [
    "try:\n",
    "    print(greeting[5])\n",
    "except:\n",
    "    print('Exception occurred!')"
   ]
  },
  {
   "cell_type": "markdown",
   "metadata": {},
   "source": [
    "In the above example, we did not mention any specific exception in the `except` clause.\n",
    "\n",
    "This is not a good programming practice as it will catch all exceptions and handle every case in the same way. We should specify which exceptions an `except` clause should catch. We can also use the *exception object* in the `except` clause, if we instantiate it with `as`."
   ]
  },
  {
   "cell_type": "code",
   "execution_count": 36,
   "metadata": {},
   "outputs": [
    {
     "name": "stdout",
     "output_type": "stream",
     "text": [
      "Exception \"string index out of range\" occurred!\n"
     ]
    }
   ],
   "source": [
    "try:\n",
    "    print(greeting[5])\n",
    "except IndexError as ex:\n",
    "    print(f'Exception \"{ex}\" occurred!')"
   ]
  },
  {
   "cell_type": "markdown",
   "metadata": {},
   "source": [
    "A `try` clause can have any number of `except` clauses to handle different exceptions, however, only one will be executed in case an exception occurs. We can use a tuple of values to specify multiple exceptions in an except clause. "
   ]
  },
  {
   "cell_type": "code",
   "execution_count": 37,
   "metadata": {},
   "outputs": [
    {
     "name": "stdout",
     "output_type": "stream",
     "text": [
      "Exception \"string index out of range\" occurred!\n"
     ]
    }
   ],
   "source": [
    "try:\n",
    "    print(greeting[5])\n",
    "except (ValueError, TypeError) as ex:\n",
    "    print(ex)\n",
    "except IndexError as ex:\n",
    "    print(f'Exception \"{ex}\" occurred!')"
   ]
  },
  {
   "cell_type": "markdown",
   "metadata": {},
   "source": [
    "Exceptions are objects and their inheritance tree allows us to catch the ones we need or a category of the ones we need.\n",
    "![Exceptions Tree](exceptions_tree.png \"Exceptions Tree\")"
   ]
  },
  {
   "cell_type": "markdown",
   "metadata": {},
   "source": [
    "In some situations, you might want to run a certain block of code if the code block inside `try` ran without any errors. For these cases, you can use the optional `else` keyword with the `try` statement."
   ]
  },
  {
   "cell_type": "code",
   "execution_count": 38,
   "metadata": {},
   "outputs": [
    {
     "name": "stdout",
     "output_type": "stream",
     "text": [
      "Last character in \"hello\" is \"o\"\n"
     ]
    }
   ],
   "source": [
    "try:\n",
    "    last_char = greeting[4]\n",
    "except IndexError as ex:\n",
    "    print(f'Exception \"{ex}\" occurred!')\n",
    "else:\n",
    "    # Executia trece pe aici doar daca nu a fost exceptie\n",
    "    print(f'Last character in \"{greeting}\" is \"{last_char}\"')\n",
    "    \n",
    "# executia continua daca nu a fost exceptie SAU am prins exceptia ridicată"
   ]
  },
  {
   "cell_type": "markdown",
   "metadata": {},
   "source": [
    "The `try` statement in Python can have an optional `finally` clause. This clause is executed no matter what, and is generally used to release external resources."
   ]
  },
  {
   "cell_type": "code",
   "execution_count": 39,
   "metadata": {},
   "outputs": [
    {
     "name": "stdout",
     "output_type": "stream",
     "text": [
      "Exception \"string index out of range\" occurred!\n",
      "Executes every time\n"
     ]
    }
   ],
   "source": [
    "try:\n",
    "    print(greeting[5])\n",
    "except IndexError as ex:\n",
    "    print(f'Exception \"{ex}\" occurred!')\n",
    "finally:\n",
    "    print('Executes every time')"
   ]
  },
  {
   "cell_type": "code",
   "execution_count": 40,
   "metadata": {},
   "outputs": [
    {
     "name": "stdout",
     "output_type": "stream",
     "text": [
      "Executes every time\n"
     ]
    },
    {
     "ename": "IndexError",
     "evalue": "string index out of range",
     "output_type": "error",
     "traceback": [
      "\u001b[0;31m---------------------------------------------------------------------------\u001b[0m",
      "\u001b[0;31mIndexError\u001b[0m                                Traceback (most recent call last)",
      "\u001b[0;32m/var/folders/s2/_752pzb50tg00mv9ggtr6p8c0000gn/T/ipykernel_76342/2681667363.py\u001b[0m in \u001b[0;36m<module>\u001b[0;34m\u001b[0m\n\u001b[1;32m      1\u001b[0m \u001b[0;32mtry\u001b[0m\u001b[0;34m:\u001b[0m\u001b[0;34m\u001b[0m\u001b[0;34m\u001b[0m\u001b[0m\n\u001b[0;32m----> 2\u001b[0;31m     \u001b[0mprint\u001b[0m\u001b[0;34m(\u001b[0m\u001b[0mgreeting\u001b[0m\u001b[0;34m[\u001b[0m\u001b[0;36m5\u001b[0m\u001b[0;34m]\u001b[0m\u001b[0;34m)\u001b[0m\u001b[0;34m\u001b[0m\u001b[0;34m\u001b[0m\u001b[0m\n\u001b[0m\u001b[1;32m      3\u001b[0m \u001b[0;32mfinally\u001b[0m\u001b[0;34m:\u001b[0m\u001b[0;34m\u001b[0m\u001b[0;34m\u001b[0m\u001b[0m\n\u001b[1;32m      4\u001b[0m     \u001b[0mprint\u001b[0m\u001b[0;34m(\u001b[0m\u001b[0;34m'Executes every time'\u001b[0m\u001b[0;34m)\u001b[0m\u001b[0;34m\u001b[0m\u001b[0;34m\u001b[0m\u001b[0m\n",
      "\u001b[0;31mIndexError\u001b[0m: string index out of range"
     ]
    }
   ],
   "source": [
    "try:\n",
    "    print(greeting[5])\n",
    "finally:\n",
    "    print('Executes every time')"
   ]
  },
  {
   "cell_type": "markdown",
   "metadata": {},
   "source": [
    "## Explicitly raising exceptions (`raise` statement)\n",
    "\n",
    "In Python, exceptions are raised when errors occur at runtime. We can also manually raise exceptions using the `raise` statement."
   ]
  },
  {
   "cell_type": "code",
   "execution_count": 41,
   "metadata": {},
   "outputs": [
    {
     "ename": "ValueError",
     "evalue": "",
     "output_type": "error",
     "traceback": [
      "\u001b[0;31m---------------------------------------------------------------------------\u001b[0m",
      "\u001b[0;31mValueError\u001b[0m                                Traceback (most recent call last)",
      "\u001b[0;32m/var/folders/s2/_752pzb50tg00mv9ggtr6p8c0000gn/T/ipykernel_76342/4096975414.py\u001b[0m in \u001b[0;36m<module>\u001b[0;34m\u001b[0m\n\u001b[0;32m----> 1\u001b[0;31m \u001b[0;32mraise\u001b[0m \u001b[0mValueError\u001b[0m\u001b[0;34m\u001b[0m\u001b[0;34m\u001b[0m\u001b[0m\n\u001b[0m",
      "\u001b[0;31mValueError\u001b[0m: "
     ]
    }
   ],
   "source": [
    "raise ValueError"
   ]
  },
  {
   "cell_type": "markdown",
   "metadata": {},
   "source": [
    "We can optionally pass values to the exception to clarify why that exception was raised."
   ]
  },
  {
   "cell_type": "code",
   "execution_count": 42,
   "metadata": {},
   "outputs": [
    {
     "ename": "ValueError",
     "evalue": "Invalid value.",
     "output_type": "error",
     "traceback": [
      "\u001b[0;31m---------------------------------------------------------------------------\u001b[0m",
      "\u001b[0;31mValueError\u001b[0m                                Traceback (most recent call last)",
      "\u001b[0;32m/var/folders/s2/_752pzb50tg00mv9ggtr6p8c0000gn/T/ipykernel_76342/55520450.py\u001b[0m in \u001b[0;36m<module>\u001b[0;34m\u001b[0m\n\u001b[0;32m----> 1\u001b[0;31m \u001b[0;32mraise\u001b[0m \u001b[0mValueError\u001b[0m\u001b[0;34m(\u001b[0m\u001b[0;34m'Invalid value.'\u001b[0m\u001b[0;34m)\u001b[0m\u001b[0;34m\u001b[0m\u001b[0;34m\u001b[0m\u001b[0m\n\u001b[0m",
      "\u001b[0;31mValueError\u001b[0m: Invalid value."
     ]
    }
   ],
   "source": [
    "raise ValueError('Invalid value.')"
   ]
  },
  {
   "cell_type": "code",
   "execution_count": 43,
   "metadata": {},
   "outputs": [
    {
     "name": "stdout",
     "output_type": "stream",
     "text": [
      "Grades should be between 1 and 10\n"
     ]
    },
    {
     "ename": "Exception",
     "evalue": "Catalog of class B is corrupted",
     "output_type": "error",
     "traceback": [
      "\u001b[0;31m---------------------------------------------------------------------------\u001b[0m",
      "\u001b[0;31mValueError\u001b[0m                                Traceback (most recent call last)",
      "\u001b[0;32m/var/folders/s2/_752pzb50tg00mv9ggtr6p8c0000gn/T/ipykernel_76342/938518322.py\u001b[0m in \u001b[0;36m<module>\u001b[0;34m\u001b[0m\n\u001b[1;32m      7\u001b[0m     \u001b[0;32melse\u001b[0m\u001b[0;34m:\u001b[0m\u001b[0;34m\u001b[0m\u001b[0;34m\u001b[0m\u001b[0m\n\u001b[0;32m----> 8\u001b[0;31m         \u001b[0;32mraise\u001b[0m \u001b[0mValueError\u001b[0m\u001b[0;34m(\u001b[0m\u001b[0;34m'Grades should be between 1 and 10'\u001b[0m\u001b[0;34m)\u001b[0m\u001b[0;34m\u001b[0m\u001b[0;34m\u001b[0m\u001b[0m\n\u001b[0m\u001b[1;32m      9\u001b[0m \u001b[0;32mexcept\u001b[0m \u001b[0mValueError\u001b[0m \u001b[0;32mas\u001b[0m \u001b[0mex\u001b[0m\u001b[0;34m:\u001b[0m\u001b[0;34m\u001b[0m\u001b[0;34m\u001b[0m\u001b[0m\n",
      "\u001b[0;31mValueError\u001b[0m: Grades should be between 1 and 10",
      "\nThe above exception was the direct cause of the following exception:\n",
      "\u001b[0;31mException\u001b[0m                                 Traceback (most recent call last)",
      "\u001b[0;32m/var/folders/s2/_752pzb50tg00mv9ggtr6p8c0000gn/T/ipykernel_76342/938518322.py\u001b[0m in \u001b[0;36m<module>\u001b[0;34m\u001b[0m\n\u001b[1;32m      9\u001b[0m \u001b[0;32mexcept\u001b[0m \u001b[0mValueError\u001b[0m \u001b[0;32mas\u001b[0m \u001b[0mex\u001b[0m\u001b[0;34m:\u001b[0m\u001b[0;34m\u001b[0m\u001b[0;34m\u001b[0m\u001b[0m\n\u001b[1;32m     10\u001b[0m     \u001b[0mprint\u001b[0m\u001b[0;34m(\u001b[0m\u001b[0mex\u001b[0m\u001b[0;34m)\u001b[0m\u001b[0;34m\u001b[0m\u001b[0;34m\u001b[0m\u001b[0m\n\u001b[0;32m---> 11\u001b[0;31m     \u001b[0;32mraise\u001b[0m \u001b[0mException\u001b[0m\u001b[0;34m(\u001b[0m\u001b[0;34m'Catalog of class B is corrupted'\u001b[0m\u001b[0;34m)\u001b[0m \u001b[0;32mfrom\u001b[0m \u001b[0mex\u001b[0m\u001b[0;34m\u001b[0m\u001b[0;34m\u001b[0m\u001b[0m\n\u001b[0m",
      "\u001b[0;31mException\u001b[0m: Catalog of class B is corrupted"
     ]
    }
   ],
   "source": [
    "grade = 12\n",
    "try:\n",
    "    if 1 <= grade < 5:\n",
    "        print('Oh, no! You failed!')\n",
    "    elif 5 <= grade <= 10:\n",
    "        print('Yay! You passed!')\n",
    "    else:\n",
    "        raise ValueError('Grades should be between 1 and 10')\n",
    "except ValueError as ex:\n",
    "    print(ex)\n",
    "    raise Exception('Catalog of class B is corrupted') from ex"
   ]
  },
  {
   "cell_type": "markdown",
   "metadata": {},
   "source": [
    "## Exercises\n",
    "\n",
    "1. Write a program to read two numbers: `x` and `y` from standard input and print the result of `x / y`. If the user inputs invalid data, display an error message and exit gracefully. \n",
    "\n",
    "```python\n",
    "name = input(\"what's your name?\")\n",
    "what's your name?>? Iulia\n",
    "name\n",
    "Out[675]: 'Iulia'\n",
    "```\n",
    "1. Modify the previous program so that it asks the user to re-enter data until valid."
   ]
  }
 ],
 "metadata": {
  "kernelspec": {
   "display_name": "Python 3 (ipykernel)",
   "language": "python",
   "name": "python3"
  },
  "language_info": {
   "codemirror_mode": {
    "name": "ipython",
    "version": 3
   },
   "file_extension": ".py",
   "mimetype": "text/x-python",
   "name": "python",
   "nbconvert_exporter": "python",
   "pygments_lexer": "ipython3",
   "version": "3.10.10"
  }
 },
 "nbformat": 4,
 "nbformat_minor": 4
}
