{
 "cells": [
  {
   "cell_type": "markdown",
   "metadata": {},
   "source": [
    "# Decorators\n",
    "\n",
    "Decorators modify or introduce code in methods and functions dynamically. A decorator is basically a function that receives another function as parameter, adds/modifies its functionality and returns it.\n",
    "\n",
    "\n",
    "## Functions roles and uses\n",
    "\n",
    "In order to understand decorators, we must first remember a few things about functions.\n",
    "\n",
    "Various names can be bound to the same function object:"
   ]
  },
  {
   "cell_type": "code",
   "execution_count": 16,
   "metadata": {},
   "outputs": [
    {
     "name": "stdout",
     "output_type": "stream",
     "text": [
      "Hello, John!\n",
      "Hello, John!\n",
      "True\n",
      "True\n"
     ]
    }
   ],
   "source": [
    "def greet(name):\n",
    "    print(f'Hello, {name}!')\n",
    "\n",
    "greet('John')\n",
    "\n",
    "salute = greet\n",
    "salute('John')\n",
    "\n",
    "print(id(salute) == id(greet))\n",
    "print(salute is greet)"
   ]
  },
  {
   "cell_type": "markdown",
   "metadata": {},
   "source": [
    "Functions can be passed as arguments to another function:"
   ]
  },
  {
   "cell_type": "code",
   "execution_count": 17,
   "metadata": {},
   "outputs": [
    {
     "name": "stdout",
     "output_type": "stream",
     "text": [
      "12\n",
      "8\n",
      "100\n",
      "5.0\n"
     ]
    }
   ],
   "source": [
    "def add(a, b):\n",
    "    return a + b\n",
    "\n",
    "def diff(a, b):\n",
    "    return a - b\n",
    "\n",
    "def compute(a, b, operation):\n",
    "    return operation(a, b)\n",
    "\n",
    "\n",
    "print(compute(10, 2, add))\n",
    "print(compute(10, 2, diff))\n",
    "print(compute(10, 2, pow))\n",
    "print(compute(10, 2, lambda x, y: x / y))"
   ]
  },
  {
   "cell_type": "markdown",
   "metadata": {},
   "source": [
    "Functions can be defined inside other functions:"
   ]
  },
  {
   "cell_type": "code",
   "execution_count": 18,
   "metadata": {},
   "outputs": [
    {
     "name": "stdout",
     "output_type": "stream",
     "text": [
      "Inside!\n"
     ]
    }
   ],
   "source": [
    "def func():\n",
    "    def inner_func():\n",
    "        print('Inside!')\n",
    "    inner_func()\n",
    "    \n",
    "func()"
   ]
  },
  {
   "cell_type": "markdown",
   "metadata": {},
   "source": [
    "A function can return another function:"
   ]
  },
  {
   "cell_type": "code",
   "execution_count": 19,
   "metadata": {},
   "outputs": [
    {
     "name": "stdout",
     "output_type": "stream",
     "text": [
      "<function func.<locals>.inner_func at 0x1052ee200>\n",
      "<class 'function'>\n"
     ]
    }
   ],
   "source": [
    "def func():\n",
    "    def inner_func():\n",
    "        print('Inside!')\n",
    "    return inner_func\n",
    "    \n",
    "func_returned = func()\n",
    "print(func_returned)\n",
    "print(type(func_returned))"
   ]
  },
  {
   "cell_type": "code",
   "execution_count": 20,
   "metadata": {},
   "outputs": [
    {
     "name": "stdout",
     "output_type": "stream",
     "text": [
      "Inside!\n"
     ]
    }
   ],
   "source": [
    "func_returned()"
   ]
  },
  {
   "cell_type": "markdown",
   "metadata": {},
   "source": [
    "## Simple decorators\n",
    "\n",
    "Functions and methods are called **callable** as they can be called.\n",
    "\n",
    "In fact, any object which implements the special method `__call__()` is a callable. So, in the most basic sense, a decorator is a callable that returns a callable.\n",
    "\n",
    "Basically, a decorator takes in a function, adds some functionality and returns it."
   ]
  },
  {
   "cell_type": "code",
   "execution_count": 21,
   "metadata": {},
   "outputs": [
    {
     "name": "stdout",
     "output_type": "stream",
     "text": [
      "I got decorated\n",
      "I am ordinary\n"
     ]
    }
   ],
   "source": [
    "def make_pretty(func):\n",
    "    def inner():\n",
    "        print(\"I got decorated\")\n",
    "        func()\n",
    "    return inner\n",
    "\n",
    "\n",
    "def ordinary():\n",
    "    print(\"I am ordinary\")\n",
    "    \n",
    "\n",
    "pretty = make_pretty(ordinary)\n",
    "pretty()"
   ]
  },
  {
   "cell_type": "markdown",
   "metadata": {},
   "source": [
    "In the example shown above, `make_pretty()` is a decorator. In the assignment step:\n",
    "\n",
    "```python\n",
    "pretty = make_pretty(ordinary)\n",
    "```\n",
    "\n",
    "The function `ordinary()` got decorated and the returned function was given the name `pretty`.\n",
    "\n",
    "Generally, we decorate a function and reassign it to its initial name:\n",
    "\n",
    "```python\n",
    "ordinary = make_pretty(ordinary)\n",
    "```\n",
    "\n",
    "This is a common construct and for this reason, Python has a syntax to simplify this.\n",
    "\n",
    "We can use the `@` symbol along with the name of the decorator function and place it above the definition of the function to decorated it. "
   ]
  },
  {
   "cell_type": "code",
   "execution_count": 22,
   "metadata": {},
   "outputs": [],
   "source": [
    "@make_pretty\n",
    "def ordinary():\n",
    "    print(\"I am ordinary\")"
   ]
  },
  {
   "cell_type": "markdown",
   "metadata": {},
   "source": [
    "The example above is equivalent to:\n",
    "\n",
    "```python\n",
    "def ordinary():\n",
    "    print(\"I am ordinary\")\n",
    "    \n",
    "ordinary = make_pretty(ordinary)\n",
    "```\n",
    "\n",
    "The `@decorator` notation is just syntactic sugar."
   ]
  },
  {
   "cell_type": "markdown",
   "metadata": {},
   "source": [
    "Generally, decorators should be able to decorate any function. Let's see what happens when we try do decorate a function that receives an argument:"
   ]
  },
  {
   "cell_type": "code",
   "execution_count": 23,
   "metadata": {},
   "outputs": [
    {
     "name": "stdout",
     "output_type": "stream",
     "text": [
      "TypeError: make_pretty.<locals>.inner() takes 0 positional arguments but 1 was given\n"
     ]
    }
   ],
   "source": [
    "@make_pretty\n",
    "def greet(name):\n",
    "    print(f'Hello, {name}!')\n",
    "    \n",
    "try:\n",
    "    greet('Anna')\n",
    "except Exception as ex:\n",
    "    print(f'{type(ex).__name__}: {ex}')"
   ]
  },
  {
   "cell_type": "markdown",
   "metadata": {},
   "source": [
    "It looks like our decorator isn't general enough. Because `make_pretty()` returns `inner` function, we should change `inner` to accept any number of parameters and pass them along to the `func()` call inside `inner()`."
   ]
  },
  {
   "cell_type": "code",
   "execution_count": 24,
   "metadata": {},
   "outputs": [],
   "source": [
    "def make_pretty(func):\n",
    "    def inner(*args, **kwargs):\n",
    "        print(\"I got decorated\")\n",
    "        func(*args, **kwargs)\n",
    "    return inner"
   ]
  },
  {
   "cell_type": "markdown",
   "metadata": {},
   "source": [
    "Let's try decorating `greet` again:"
   ]
  },
  {
   "cell_type": "code",
   "execution_count": 25,
   "metadata": {},
   "outputs": [
    {
     "name": "stdout",
     "output_type": "stream",
     "text": [
      "I got decorated\n",
      "Hello, Anna!\n"
     ]
    }
   ],
   "source": [
    "@make_pretty\n",
    "def greet(name):\n",
    "    print(f'Hello, {name}!')\n",
    "    \n",
    "greet('Anna')"
   ]
  },
  {
   "cell_type": "markdown",
   "metadata": {},
   "source": [
    "There is still one detail we have left out. Let's try decorating a function that returns some value:"
   ]
  },
  {
   "cell_type": "code",
   "execution_count": 26,
   "metadata": {},
   "outputs": [
    {
     "name": "stdout",
     "output_type": "stream",
     "text": [
      "I got decorated\n",
      "Incremented value: None\n"
     ]
    }
   ],
   "source": [
    "@make_pretty\n",
    "def increment(num, step=1):\n",
    "    return num + step\n",
    "    \n",
    "result = increment(100)\n",
    "print('Incremented value:', result)"
   ]
  },
  {
   "cell_type": "markdown",
   "metadata": {},
   "source": [
    "The incremented value should be `101`, but instead, it's `None`. Let's take another look at the `inner` function: it simply calls `func`, but ignores the value returned by it."
   ]
  },
  {
   "cell_type": "code",
   "execution_count": 27,
   "metadata": {},
   "outputs": [
    {
     "name": "stdout",
     "output_type": "stream",
     "text": [
      "I got decorated\n",
      "Incremented value: 102\n"
     ]
    }
   ],
   "source": [
    "def make_pretty(func):\n",
    "    def inner(*args, **kwargs):\n",
    "        print(\"I got decorated\")\n",
    "        return func(*args, **kwargs)\n",
    "    return inner\n",
    "\n",
    "@make_pretty\n",
    "def increment(num, step=1):\n",
    "    \"\"\"Increments num with step. If not provided, step=1\"\"\"\n",
    "    return num + step\n",
    "    \n",
    "result = increment(100, 2)\n",
    "print('Incremented value:', result)"
   ]
  },
  {
   "cell_type": "markdown",
   "metadata": {},
   "source": [
    "This time, our decorator seems to work properly. Let's check one last detail:"
   ]
  },
  {
   "cell_type": "code",
   "execution_count": 28,
   "metadata": {},
   "outputs": [
    {
     "name": "stdout",
     "output_type": "stream",
     "text": [
      "<function make_pretty.<locals>.inner at 0x1052edc60> None\n"
     ]
    }
   ],
   "source": [
    "print(increment, increment.__doc__)"
   ]
  },
  {
   "cell_type": "markdown",
   "metadata": {},
   "source": [
    "When inspecting `increment` function, we can see it points to the `make_pretty.<locals>.inner` function object and it has lost its properties, like the docstring. In order to prevent this from happening, we can use `functools.wraps` decorator:"
   ]
  },
  {
   "cell_type": "code",
   "execution_count": 29,
   "metadata": {},
   "outputs": [
    {
     "name": "stdout",
     "output_type": "stream",
     "text": [
      "I got decorated\n",
      "Incremented value: 102\n"
     ]
    }
   ],
   "source": [
    "import functools\n",
    "\n",
    "def make_pretty(func):\n",
    "    @functools.wraps(func)\n",
    "    def inner(*args, **kwargs):\n",
    "        print(\"I got decorated\")\n",
    "        return func(*args, **kwargs)\n",
    "    return inner\n",
    "\n",
    "@make_pretty\n",
    "def increment(num, step=1):\n",
    "    \"\"\"Increments num with step. If not provided, step=1\"\"\"\n",
    "    return num + step\n",
    "    \n",
    "result = increment(100, 2)\n",
    "print('Incremented value:', result)"
   ]
  },
  {
   "cell_type": "code",
   "execution_count": 30,
   "metadata": {},
   "outputs": [
    {
     "name": "stdout",
     "output_type": "stream",
     "text": [
      "<function increment at 0x1052ed6c0> Increments num with step. If not provided, step=1\n"
     ]
    }
   ],
   "source": [
    "print(increment, increment.__doc__)"
   ]
  },
  {
   "cell_type": "markdown",
   "metadata": {},
   "source": [
    "## Exercises\n",
    "1. Write a decorator that computes (and displays) execution time for a function. \n",
    "  Hint: `time.time()` function returns current time in seconds.\n",
    "1. Write a decorator function that takes a function as an argument and prints the number of times the function has been called."
   ]
  }
 ],
 "metadata": {
  "kernelspec": {
   "display_name": "Python 3 (ipykernel)",
   "language": "python",
   "name": "python3"
  },
  "language_info": {
   "codemirror_mode": {
    "name": "ipython",
    "version": 3
   },
   "file_extension": ".py",
   "mimetype": "text/x-python",
   "name": "python",
   "nbconvert_exporter": "python",
   "pygments_lexer": "ipython3",
   "version": "3.10.10"
  }
 },
 "nbformat": 4,
 "nbformat_minor": 4
}
